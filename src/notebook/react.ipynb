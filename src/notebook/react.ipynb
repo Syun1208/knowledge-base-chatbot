{
 "cells": [
  {
   "cell_type": "markdown",
   "metadata": {},
   "source": [
    "# ***<span style=\"color:green\">Create an Agent</span>***"
   ]
  },
  {
   "cell_type": "code",
   "execution_count": null,
   "metadata": {},
   "outputs": [],
   "source": [
    "import ollama\n",
    "import json\n",
    "\n",
    "\n",
    "def routing(state, query, intermediate_results):\n",
    "    messages = [\n",
    "        {\n",
    "            \"role\": \"user\",\n",
    "            \"content\": (\n",
    "                \"You are a reasoning and acting agent. Based on the current state and user input, decide the next action.\\n\"\n",
    "                f\"State: {state}\\n\"\n",
    "                f\"User Input: {query}\\n\"\n",
    "                f\"Intermediate Results: {intermediate_results}\\n\\n\"\n",
    "                \"Respond with one of these actions:\\n\"\n",
    "                \"- Search internal knowledges from vector database(query)\\n\"\n",
    "                \"- Do nothing\\n\"\n",
    "                \"- Search from external website(query)\\n\"\n",
    "            )\n",
    "        }\n",
    "    ]\n",
    "    response = ollama.chat(\n",
    "        model='llama3.2:latest',\n",
    "        messages=messages,\n",
    "\n",
    "        # provide a weather checking tool to the model\n",
    "        tools=[\n",
    "          {\n",
    "            'type': 'function',\n",
    "            'function': {\n",
    "              'name': 'get_greeting_conversation',\n",
    "              'description': 'Get the casual greeting with user',\n",
    "              'parameters': {\n",
    "                'type': 'object',\n",
    "                'properties': {\n",
    "                  'query': {\n",
    "                    \"type\": \"string\",\n",
    "                    \"description\": \"The search query string to be submitted to the search engine\"\n",
    "                  }\n",
    "                },\n",
    "                'required': ['query'],\n",
    "              },\n",
    "            },\n",
    "          },\n",
    "          {\n",
    "            'type': 'function',\n",
    "            'function': {\n",
    "              'name': 'get_internal_knowledge',\n",
    "              'description': 'Get the internal informations in Nexcel Solutions Company',\n",
    "              'parameters': {\n",
    "                'type': 'object',\n",
    "                'properties': {\n",
    "                  'query': {\n",
    "                    \"type\": \"string\",\n",
    "                    \"description\": \"The search query string to be submitted to the search engine\"\n",
    "                  }\n",
    "                },\n",
    "                'required': ['query'],\n",
    "              },\n",
    "            },\n",
    "          },\n",
    "          {\n",
    "            'type': 'function',\n",
    "            'function': {\n",
    "              'name': 'get_external_knowledge',\n",
    "              'description': 'Get the external informations from websites in the internet if the internal informations is not reasonble',\n",
    "              'parameters': {\n",
    "                'type': 'object',\n",
    "                'properties': {\n",
    "                  'query': {\n",
    "                    \"type\": \"string\",\n",
    "                    \"description\": \"The search query string to be submitted to the search engine\"\n",
    "                  }\n",
    "                },\n",
    "                'required': ['query'],\n",
    "              },\n",
    "            },\n",
    "          },\n",
    "          {\n",
    "            'type': 'function',\n",
    "            'function': {\n",
    "              'name': 'do_nothing',\n",
    "              'description': 'A function that performs no action',\n",
    "              \"parameters\": {\n",
    "                  \"type\": \"object\",\n",
    "                  \"required\": [],\n",
    "                  \"properties\": {}\n",
    "              },\n",
    "            },\n",
    "          }\n",
    "      ]\n",
    "    )\n",
    "    \n",
    "    return response\n",
    "  \n",
    "  \n",
    "assistant_message = routing(\n",
    "    \"start\",\n",
    "    \"Hello\",\n",
    "    []\n",
    ")\n",
    "  \n",
    "\n",
    "def process_tool_calls(response):\n",
    "    # Extract tool call information from the response\n",
    "    tool_calls = response.tool_calls\n",
    "\n",
    "    if tool_calls:\n",
    "        # Extract tool function details\n",
    "        tool_function_name = tool_calls[0].function.name\n",
    "        tool_query_string = eval(json.dumps(tool_calls[0].function.arguments))\n",
    "\n",
    "        # Print extracted details\n",
    "        print('Tool Function Name:', tool_function_name)\n",
    "        print('Tool Query String:', tool_query_string)\n",
    "\n",
    "        return tool_function_name, tool_query_string\n",
    "\n",
    "    else:\n",
    "        print(\"No tool calls identified.\")\n",
    "        return None, None\n",
    "      \n",
    "\n",
    "     \n",
    "print(assistant_message.message)\n",
    "process_tool_calls(assistant_message.message)"
   ]
  },
  {
   "cell_type": "markdown",
   "metadata": {},
   "source": [
    "# ***<span style=\"color:green\">Prepare Tools</span>***"
   ]
  },
  {
   "cell_type": "code",
   "execution_count": 2,
   "metadata": {},
   "outputs": [],
   "source": [
    "import json\n",
    "\n",
    "def load_json(path: str):\n",
    "    with open(path, 'r') as f:\n",
    "        data = json.load(f)\n",
    "        return data"
   ]
  },
  {
   "cell_type": "code",
   "execution_count": 35,
   "metadata": {},
   "outputs": [],
   "source": [
    "data = load_json(r'./career_documents.json')"
   ]
  },
  {
   "cell_type": "code",
   "execution_count": 36,
   "metadata": {},
   "outputs": [],
   "source": [
    "from typing import List\n",
    "\n",
    "def postprocessing(content: str) -> List[str]:\n",
    "    \n",
    "    contents = content.split(\"<2>\")\n",
    "    root = contents[0]\n",
    "    filtered_contents = list(map(lambda x: root + \"\\n\" + x.replace('-', '').strip('<2>'), contents[1:]))\n",
    "    \n",
    "    return filtered_contents"
   ]
  },
  {
   "cell_type": "code",
   "execution_count": 37,
   "metadata": {},
   "outputs": [],
   "source": [
    "def convert2listdict(filtered_contents, title, url, headers):\n",
    "    results = []\n",
    "    for c in filtered_contents:\n",
    "        d = {\n",
    "            'url': url,\n",
    "            'title': title,\n",
    "            'headers': headers,\n",
    "            'content': c\n",
    "        }\n",
    "        results.append(d)\n",
    "    \n",
    "    return results"
   ]
  },
  {
   "cell_type": "code",
   "execution_count": 38,
   "metadata": {},
   "outputs": [],
   "source": [
    "removed_index = []\n",
    "changes = []\n",
    "for i, d in enumerate(data):\n",
    "\n",
    "    if \"<2>\" in d['content'] or \"{table}\" in d['content'] or \"{/table}\" in d['content']:\n",
    "        filtered_contents = postprocessing(d['content'])\n",
    "        convert2dicts = convert2listdict(filtered_contents, d['title'], d['url'], d['headers'])\n",
    "        removed_index.append(i)\n",
    "        changes.extend(convert2dicts)"
   ]
  },
  {
   "cell_type": "code",
   "execution_count": 39,
   "metadata": {},
   "outputs": [],
   "source": [
    "for i in removed_index:\n",
    "    data.pop(i)\n",
    "    \n",
    "data = data + changes"
   ]
  },
  {
   "cell_type": "code",
   "execution_count": 40,
   "metadata": {},
   "outputs": [
    {
     "data": {
      "text/plain": [
       "82"
      ]
     },
     "execution_count": 40,
     "metadata": {},
     "output_type": "execute_result"
    }
   ],
   "source": [
    "len(data)"
   ]
  },
  {
   "cell_type": "code",
   "execution_count": 42,
   "metadata": {},
   "outputs": [],
   "source": [
    "from typing import Dict\n",
    "\n",
    "def write_json(documents: List[Dict[str, str]], path: str):\n",
    "    with open(path, 'w') as json_file:\n",
    "        json.dump(documents, json_file)\n",
    "        "
   ]
  },
  {
   "cell_type": "code",
   "execution_count": 43,
   "metadata": {},
   "outputs": [],
   "source": [
    "e = load_json('./employee_documents.json')\n",
    "\n",
    "s = data + e\n",
    "write_json(s, './documents.json')\n"
   ]
  },
  {
   "cell_type": "code",
   "execution_count": 44,
   "metadata": {},
   "outputs": [
    {
     "data": {
      "text/plain": [
       "460"
      ]
     },
     "execution_count": 44,
     "metadata": {},
     "output_type": "execute_result"
    }
   ],
   "source": [
    "len(s)"
   ]
  },
  {
   "cell_type": "code",
   "execution_count": null,
   "metadata": {},
   "outputs": [],
   "source": []
  }
 ],
 "metadata": {
  "kernelspec": {
   "display_name": "langchain",
   "language": "python",
   "name": "python3"
  },
  "language_info": {
   "codemirror_mode": {
    "name": "ipython",
    "version": 3
   },
   "file_extension": ".py",
   "mimetype": "text/x-python",
   "name": "python",
   "nbconvert_exporter": "python",
   "pygments_lexer": "ipython3",
   "version": "3.11.11"
  }
 },
 "nbformat": 4,
 "nbformat_minor": 2
}
