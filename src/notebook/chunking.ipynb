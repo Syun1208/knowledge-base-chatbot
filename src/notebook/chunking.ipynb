{
 "cells": [
  {
   "cell_type": "code",
   "execution_count": 1,
   "metadata": {},
   "outputs": [],
   "source": [
    "import warnings\n",
    "\n",
    "warnings.filterwarnings(\"ignore\")"
   ]
  },
  {
   "cell_type": "code",
   "execution_count": 59,
   "metadata": {},
   "outputs": [],
   "source": [
    "import requests\n",
    "from langchain_text_splitters import MarkdownHeaderTextSplitter\n",
    "from langchain_core.documents import Document\n",
    "from markdownify import markdownify as md\n",
    "import re\n",
    "from markdown import markdown\n",
    "from bs4 import BeautifulSoup\n",
    "import re"
   ]
  },
  {
   "cell_type": "code",
   "execution_count": 58,
   "metadata": {},
   "outputs": [],
   "source": [
    "from typing import *"
   ]
  },
  {
   "cell_type": "markdown",
   "metadata": {},
   "source": [
    "# ***<span style=\"color:green\">Chunking</span>***"
   ]
  },
  {
   "cell_type": "code",
   "execution_count": 115,
   "metadata": {},
   "outputs": [],
   "source": [
    "url = \"https://nexcel.info/nexcel-career-development-handbook/\"\n",
    "response = requests.get(url)"
   ]
  },
  {
   "cell_type": "code",
   "execution_count": 116,
   "metadata": {},
   "outputs": [],
   "source": [
    "def convert_html2markdown(html_content: str) -> str:\n",
    "    markdown_content = md(html_content)\n",
    "    markdown_content = re.sub(\"\\n\\n+\", \"\\n\", markdown_content)\n",
    "    return markdown_content"
   ]
  },
  {
   "cell_type": "code",
   "execution_count": 117,
   "metadata": {},
   "outputs": [],
   "source": [
    "markdown_content = convert_html2markdown(response.text)"
   ]
  },
  {
   "cell_type": "code",
   "execution_count": 118,
   "metadata": {},
   "outputs": [],
   "source": [
    "headers_to_split_on = [\n",
    "    (\"#\", \"Header 1\"),\n",
    "    (\"##\", \"Header 2\"),\n",
    "    (\"###\", \"Header 3\"),\n",
    "    (\"####\", \"Header 4\"),\n",
    "    (\"#####\", \"Header 5\"),\n",
    "]"
   ]
  },
  {
   "cell_type": "code",
   "execution_count": null,
   "metadata": {},
   "outputs": [],
   "source": [
    "[\n",
    "    {\n",
    "        \"title\": ['ABCXYZ', ...],\n",
    "        \"content\": [\n",
    "            \"\",\n",
    "            \"\",\n",
    "            \"\",\n",
    "            ...\n",
    "        ],\n",
    "        \"url\": \"https://\"\n",
    "    },\n",
    "    ...\n",
    "]"
   ]
  },
  {
   "cell_type": "code",
   "execution_count": 119,
   "metadata": {},
   "outputs": [],
   "source": [
    "markdown_splitter = MarkdownHeaderTextSplitter(\n",
    "    headers_to_split_on=headers_to_split_on, \n",
    "    strip_headers=True\n",
    ")"
   ]
  },
  {
   "cell_type": "code",
   "execution_count": 120,
   "metadata": {},
   "outputs": [],
   "source": [
    "md_header_splits = markdown_splitter.split_text(markdown_content)"
   ]
  },
  {
   "cell_type": "code",
   "execution_count": 21,
   "metadata": {},
   "outputs": [],
   "source": [
    "chunks = []\n",
    "for md_header_split in md_header_splits:\n",
    "    html = markdown(md_header_split.page_content)\n",
    "    page_content = ''.join(BeautifulSoup(html).findAll(text=True))\n",
    "    page_content = re.sub(r'\\| --- \\| --- \\| --- \\|', '', page_content)\n",
    "    page_content = re.sub(r'\\n+', '\\n', page_content).strip()\n",
    "    chunks.append({\n",
    "        'url': url,\n",
    "        'content': page_content\n",
    "})"
   ]
  },
  {
   "cell_type": "code",
   "execution_count": 54,
   "metadata": {},
   "outputs": [
    {
     "data": {
      "text/plain": [
       "Document(metadata={}, page_content='Nexcel Career Development Handbook – Nexcel Info Site\\n[Skip to content](#content)\\n[Login](https://nexcel.info/wp-login.php)\\n[![Nexcel Info Site](https://nexcel.info/wp-content/uploads/2021/04/Nexcel-1.png)](https://nexcel.info/)  \\n* [Bulletin Board](https://nexcel.info/category/bulletin-board/)\\n+ [General Announcements & Notices](https://nexcel.info/category/bulletin-board/general-announcements-notices/)\\n+ [Health Checkup Announcements](https://nexcel.info/category/bulletin-board/health-checkup-announcements/)\\n+ [Holidays Announcements](https://nexcel.info/category/bulletin-board/holidays-announcements/)\\n* [HR/Admin/FA](https://nexcel.info/category/hr-admin-fa/)\\n+ [Employee Onboarding & Integration](https://nexcel.info/category/hr-admin-fa/recruitment/employee-onboarding-integration/)\\n- [Onboarding & Integration Process](https://nexcel.info/category/hr-admin-fa/recruitment/employee-onboarding-integration/onboarding-integration-process/)\\n- [Newcomer’s Guide](https://nexcel.info/category/hr-admin-fa/recruitment/employee-onboarding-integration/newcomers-guide/)\\n- [Welcome Aboard](https://nexcel.info/category/hr-admin-fa/recruitment/employee-onboarding-integration/welcome-aboard/)\\n+ [Organizational Chart](https://nexcel.info/organizational-chart/)\\n+ [Seat Layout](https://nexcel.info/seat-layout/)\\n+ [Recruitment](https://nexcel.info/category/hr-admin-fa/recruitment/)\\n- [Internal Transfer](https://nexcel.info/category/hr-admin-fa/recruitment/internal-transfer/)\\n- [In-house Recruitment](https://nexcel.info/category/hr-admin-fa/recruitment/in-house-recruitment/)\\n- [Job Description Repository](https://nexcel.info/job-decriptions/)\\n+ [Services](https://nexcel.info/category/services/)\\n- [Building Management](https://nexcel.info/category/services/building-management/)\\n* [SMS Tower Regulation](https://nexcel.info/category/services/building-management/sms-tower-regulation/)\\n* [Feedback](https://nexcel.info/category/services/building-management/feedback/)\\n- [FnB Order](http://fbs.sms-vn.com/Ordering/Index)\\n+ [Accounting & Tax](https://nexcel.info/category/accounting-tax/)\\n- [Personal Income Tax](https://nexcel.info/category/accounting-tax/personal-income-tax/)\\n+ [Learning and Development](https://nexcel.info/category/hr-admin-fa/learning-and-development/)\\n+ [Standard Operating Procedures (SOP)](https://nexcel.info/category/hr-admin-fa/standard-operating-procedures-sop/)\\n* [Events](https://nexcel.info/category/events/)\\n+ [Annual Party](https://nexcel.info/category/events/annual-party/)\\n+ [Birthday Party](https://nexcel.info/category/events/birthday-party/)\\n+ [Charity](https://nexcel.info/category/events/charity/)\\n+ [Sport Events](https://nexcel.info/category/events/sport-event/)\\n- [2024](https://nexcel.info/category/events/sport-event/sport-events-2024/)\\n- [2023](https://nexcel.info/category/events/sport-event/sport-events-2023/)\\n- [2022](https://nexcel.info/category/events/sport-event/sport-event-2022/)\\n+ [Team Building Activities](https://nexcel.info/category/events/team-building-activities/)\\n+ [Other Activities](https://nexcel.info/category/events/other-activities/)\\n* [IT & Network](https://nexcel.info/category/it-network/)\\n+ [Outage & Maintenance Schedule](https://nexcel.info/category/it-network/outage-maintenance-schedule/)\\n+ [Virus/Malware/Security Reports & Guidelines](https://nexcel.info/category/it-network/virus-malware-security-reports-guidelines/)\\n+ [Software & Hardware Policies & Guidelines](https://nexcel.info/category/it-network/software-hardware-policies-guidelines/)\\n* [Regulations & Policies](https://nexcel.info/category/regulations-policies/)\\n+ [Memo](https://nexcel.info/category/bulletin-board/memo/)\\n+ [Company Regulation](https://nexcel.info/category/regulations-policies/company-regulation/)\\n+ [IT Policies and Procedures](https://nexcel.info/category/regulations-policies/information-security-policy/)\\n+ [Infectious Diseases Leave Policy](https://nexcel.info/category/regulations-policies/infectious-diseases-leave-policy/)\\n+ [Insurance Policy](https://nexcel.info/category/regulations-policies/insurance-policy/)\\n- [Compulsory Insurance](https://nexcel.info/category/regulations-policies/insurance-policy/compulsory-insurance/)\\n* [Maternity Regime](https://nexcel.info/category/regulations-policies/insurance-policy/compulsory-insurance/maternity-regime/)\\n* [Sickness Regime](https://nexcel.info/category/regulations-policies/insurance-policy/compulsory-insurance/sickness-regime/)\\n- [Health Insurance](https://nexcel.info/category/regulations-policies/insurance-policy/medical-insurance/)\\n+ [Nexcel Discipline Policy](https://nexcel.info/category/regulations-policies/nexcel-discipline-policy/)\\n+ [Performance Appraisal Policy](https://nexcel.info/category/regulations-policies/performance-appraisal-policy/)\\n- [Career Development Path](https://nexcel.info/nexcel-career-development-handbook/)\\n- [English Incentives Policies](https://nexcel.info/category/regulations-policies/performance-appraisal-policy/english-incentives-policies-performance-appraisal-policy/)\\n+ [Referral Bonus Policy](https://nexcel.info/category/regulations-policies/referral-bonus-policy/)\\n+ [Promotion Process](https://nexcel.info/category/regulations-policies/promotion-process/)\\n* [Promotion & Award](https://nexcel.info/category/promotion-award/)\\n+ [Company Award Record](https://nexcel.info/category/promotion-award/company-award-record/)\\n+ [Employee of the Quarter](https://nexcel.info/category/promotion-award/employee-of-the-quarter/)\\n- [2024](https://nexcel.info/category/promotion-award/employee-of-the-quarter/employee-of-the-quarter-2024/)\\n- [2023](https://nexcel.info/category/promotion-award/employee-of-the-quarter/employee-of-the-quarter-2023/)\\n- [2022](https://nexcel.info/category/promotion-award/employee-of-the-quarter/employee-of-the-quarter-2022/)\\n- [2021](https://nexcel.info/category/promotion-award/employee-of-the-quarter/employee-of-the-quarter-2021/)\\n- [2020](https://nexcel.info/category/promotion-award/employee-of-the-quarter/employee-of-the-quarter-2020/)\\n- [2019](https://nexcel.info/category/promotion-award/employee-of-the-quarter/employee-of-the-quarter-2019/)\\n- [2018](https://nexcel.info/category/promotion-award/employee-of-the-quarter/employee-of-the-quarter-2018/)\\n- [2017](https://nexcel.info/category/promotion-award/employee-of-the-quarter/employee-of-the-quarter-2017/)\\n- [2016](https://nexcel.info/category/promotion-award/employee-of-the-quarter/employee-of-the-quarter-2016/)\\n- [2015](https://nexcel.info/category/promotion-award/employee-of-the-quarter/employee-of-the-quarter-2015/)\\n- [2014](https://nexcel.info/category/promotion-award/employee-of-the-quarter/employee-of-the-quarter-2014/)\\n- [2013](https://nexcel.info/category/promotion-award/employee-of-the-quarter/employee-of-the-quarter-2013/)\\n- [2012](https://nexcel.info/category/promotion-award/employee-of-the-quarter/employee-of-the-quarter-2012/)\\n- [2011](https://nexcel.info/category/promotion-award/employee-of-the-quarter/employee-of-the-quarter-2011/)\\n+ [Employee of the Year](https://nexcel.info/category/promotion-award/employee-of-the-year/)\\n+ [Promotion Record](https://nexcel.info/category/promotion-award/promotion-record/)  \\n* [Home](https://nexcel.info/)\\n* [Regulations & Policies](https://nexcel.info/category/regulations-policies/)\\n* [Performance Appraisal Policy](https://nexcel.info/category/regulations-policies/performance-appraisal-policy/)\\n* [Career Development Path](https://nexcel.info/category/regulations-policies/performance-appraisal-policy/career-development-path/)\\n* [Nexcel Career Development Handbook](https://nexcel.info/nexcel-career-development-handbook)  \\nNexcel Career Development Handbook\\n==================================\\n* [21/05/2021](https://nexcel.info/nexcel-career-development-handbook/)\\nTable of Contents\\n* [1. Introduction](#1_Introduction)\\n+ [1.1. Purpose](#11_Purpose)\\n+ [1.2. Nexcel Career Paths](#12_Nexcel_Career_Paths)\\n- [1.2.1. Job Titles & Grades](#121_Job_Titles_Grades)\\n+ [1.3. Approval Authority](#13_Approval_Authority)\\n- [1.3.1. Approval Authority at Professional Branch](#131_Approval_Authority_at_Professional_Branch)\\n- [1.3.2. Approval Authority at Management Branch](#132_Approval_Authority_at_Management_Branch)\\n+ [1.4. Promotion Process](#14_Promotion_Process)\\n- [1.4.1. Professional Branch](#141_Professional_Branch)\\n- [1.4.2. Management Branch](#142_Management_Branch)\\n+ [1.5. Eligibility for Promotion](#15_Eligibility_for_Promotion)\\n+ [1.6. Individual/Committee Responsibilities](#16_IndividualCommittee_Responsibilities)\\n- [1.6.1. Supervisor’s Responsibilities](#161_Supervisors_Responsibilities)\\n- [1.6.2. Candidate’s Responsibilities](#162_Candidates_Responsibilities)\\n- [1.6.3. Promotion Committee’s Responsibilities](#163_Promotion_Committees_Responsibilities)\\n- [1.6.4. Human Resource Department’s Responsibilities](#164_Human_Resource_Departments_Responsibilities)\\n- [1.6.5. Director/Unit Head’s Responsibilities](#165_DirectorUnit_Heads_Responsibilities)\\n* [2. Evaluation Criteria](#2_Evaluation_Criteria)\\n+ [2.1. Professional Branch](#21_Professional_Branch)\\n- [2.1.1. Application Support Analyst](#211_Application_Support_Analyst)\\n- [2.1.2. Business Analyst](#212_Business_Analyst)\\n- [2.1.3. Database Administrator](#213_Database_Administrator)\\n- [2.1.4. Data Analyst](#214_Data_Analyst)\\n- [2.1.5. Graphic Designer](#215_Graphic_Designer)\\n- [2.1.6. Front-end Engineer](#216_Front-end_Engineer)\\n- [2.1.7. Project Support Officer](#217_Project_Support_Officer)\\n- [2.1.8. Software Engineer](#218_Software_Engineer)\\n- [2.1.9. Software Test Engineer](#219_Software_Test_Engineer)\\n- [2.1.10. Technical/Content Writer](#2110_TechnicalContent_Writer)\\n* [3. Appendices](#3_Appendices)\\n+ [3.1. Promotion Assessment Form](#31_Promotion_Assessment_Form)\\n1. Introduction\\n---------------')"
      ]
     },
     "execution_count": 54,
     "metadata": {},
     "output_type": "execute_result"
    }
   ],
   "source": [
    "md_header_splits[0]"
   ]
  },
  {
   "cell_type": "code",
   "execution_count": 79,
   "metadata": {},
   "outputs": [],
   "source": [
    "# Title-chunking\n",
    "# – if the element text length is smaller than 2,048 characters, a merge with the following element is attempted\n",
    "# – iteratively, element texts are merged following the step above till either the desired length is achieved, without breaking the element\n",
    "# – if a title element is found, a new chunk is started\n",
    "# – if a table element is found, a new chunk is started, preserving the entire table\n",
    "\n",
    "def title_chunking(markdown_split: List[Document]) -> List[Dict[str, Any]]: \n",
    "\n",
    "    list_info = []\n",
    "    for markdown_text in markdown_split:\n",
    "\n",
    "        headers = []\n",
    "        # Split different types of headers\n",
    "        info = markdown_text.page_content.split('\\n')\n",
    "        contents = info\n",
    "        if info[0].split(' ')[0] == \"###\":\n",
    "            header1 = info[0]\n",
    "            headers = [info[0]]\n",
    "            contents = info[1:]\n",
    "        elif info[0].split(' ')[0] == \"####\":\n",
    "            info.insert(0, header1)\n",
    "            header2 = info[0]\n",
    "            headers = info[:2]\n",
    "            contents = info[2:]\n",
    "        elif info[0].split(' ')[0] == \"#####\":\n",
    "            info.insert(0, header1)\n",
    "            info.insert(1, header2)\n",
    "            headers = info[:3]\n",
    "            contents = info[3:]\n",
    "        dict_info = {\n",
    "            'headers': headers,\n",
    "            'contents': contents,\n",
    "            'url': url\n",
    "        }\n",
    "        \n",
    "        list_info.append(dict_info)\n",
    "    \n",
    "    return list_info\n",
    "        # If that paragraph is image, send to LVM (Large Vision Model) to gain main bullet points\n",
    "        \n",
    "        # Otherwise, split by the point\n",
    "        \n",
    "        # Concatenate the different headers into each bullets points"
   ]
  },
  {
   "cell_type": "code",
   "execution_count": 80,
   "metadata": {},
   "outputs": [],
   "source": [
    "t = title_chunking(md_header_splits)"
   ]
  },
  {
   "cell_type": "code",
   "execution_count": 132,
   "metadata": {},
   "outputs": [],
   "source": [
    "def pretty_json(texts: List[Dict[str, Any]]) -> None:\n",
    "    \n",
    "    for text in texts:\n",
    "        \n",
    "        print('URL: ', text['url'])\n",
    "        print('HEADERS: ', text['headers'])\n",
    "        print('\\n')\n",
    "        print('CONTENTS: ')\n",
    "        # print(' '.join(text['contents']))\n",
    "        for i, content in enumerate(text['contents']):\n",
    "            # print(content + '\\n')\n",
    "            \n",
    "            html = markdown(content)\n",
    "            page_content = ''.join(BeautifulSoup(html).findAll(text=True))\n",
    "            page_content = re.sub(r'\\| --- \\| --- \\| --- \\|', '', page_content)\n",
    "            page_content = re.sub(r'\\n+', '\\n', page_content).strip()\n",
    "            print(page_content + '\\n')\n",
    "            if i != len(text['contents']) - 1:\n",
    "                print(\"====\" * 30)\n",
    "        print(\"############\" * 10 + '\\n')"
   ]
  },
  {
   "cell_type": "code",
   "execution_count": 133,
   "metadata": {},
   "outputs": [
    {
     "name": "stdout",
     "output_type": "stream",
     "text": [
      "URL:  https://nexcel.info/nexcel-career-development-handbook/\n",
      "HEADERS:  ['### 1.1. Purpose']\n",
      "\n",
      "\n",
      "CONTENTS: \n",
      "Nexcel Career Development Handbook is the document that presents the guidelines, regulations, and procedures for advancing and promoting Nexcel employee’s career paths. The overall purpose of the career advancement/promotion process is to reward and invest in well-performed employees, and motivate them to improve their performance.\n",
      "\n",
      "########################################################################################################################\n",
      "\n",
      "URL:  https://nexcel.info/nexcel-career-development-handbook/\n",
      "HEADERS:  ['### 1.2. Nexcel Career Paths']\n",
      "\n",
      "\n",
      "CONTENTS: \n",
      "Nexcel Career Paths encompass various progressions of all Nexcel’s occupations, ranked in a progressive order based on the level of qualifications, skills, and contributions, with two different classifications including Professional and Management Branches.\n",
      "\n",
      "========================================================================================================================\n",
      "Our career paths aim to assist employees in identifying their current positions within Nexcel, and provide employees with a better understanding of what knowledge, skills, and qualifications (based on Evaluation Criteria) required to advance to the next title, along with helping them determine their career goals and which career trajectory (Professional or Management Branch) to pursue.\n",
      "\n",
      "========================================================================================================================\n",
      "With clearly defined career paths in place, employees will be exposed to more opportunities for promotion as well as expanding their career choices and orientations.\n",
      "\n",
      "========================================================================================================================\n",
      "To ensure fair and consistent evaluation of employee’s capability, Nexcel employs job grading system as a standardized approach of objectively assigning value to employee’s positions within the organization. The grading system will also serve as a reference for employee’s career paths in Nexcel.\n",
      "\n",
      "########################################################################################################################\n",
      "\n",
      "URL:  https://nexcel.info/nexcel-career-development-handbook/\n",
      "HEADERS:  ['### 1.2. Nexcel Career Paths', '#### 1.2.1. Job Titles & Grades']\n",
      "\n",
      "\n",
      "CONTENTS: \n",
      "Job titles (Engineer, Senior, Staff, etc.) reflect the experience, qualifications, skills, and knowledge that are necessary to perform the job, along with the contributions accumulated throughout an employee’s entire career development process at Nexcel.\n",
      "\n",
      "========================================================================================================================\n",
      "To make employees’ career paths more specific, measurable, and achievable, the career goals (qualifications, skills, duties, etc.) for some job titles are broken down into more actionable sub-goals, with each represented by the respective job grades.\n",
      "\n",
      "========================================================================================================================\n",
      "For some job titles, there are several job grades (A, B, C, D, etc.) The number of job grades will vary depending on the job title. There will be exceptions in which certain job titles do not have job grades.\n",
      "\n",
      "========================================================================================================================\n",
      "Job title and job grade promotion will strictly follow the procedures outlined in Promotion Process.\n",
      "\n",
      "========================================================================================================================\n",
      "For more details on job titles and grades, refer to sections 1.2.1.1 (Professional Branch) and 1.2.1.2 (Management Branch).\n",
      "\n",
      "########################################################################################################################\n",
      "\n"
     ]
    }
   ],
   "source": [
    "pretty_json(t[1: 4])"
   ]
  },
  {
   "cell_type": "code",
   "execution_count": null,
   "metadata": {},
   "outputs": [],
   "source": [
    "{\n",
    "    \"scores\": [\n",
    "        0.48051196336746216,\n",
    "        0.41029220819473267,\n",
    "        0.39632341265678406,\n",
    "        0.37228578329086304,\n",
    "        0.3333017826080322,\n",
    "        0.2796628475189209\n",
    "    ],\n",
    "    \"urls\": [\n",
    "        \"https://nexcel.info/nexcel-career-development-handbook/\",\n",
    "        \"https://nexcel.info/nexcel-career-development-handbook/\",\n",
    "        \"https://nexcel.info/nexcel-career-development-handbook/\",\n",
    "        \"https://nexcel.info/nexcel-career-development-handbook/\",\n",
    "        \"https://nexcel.info/employee-handbook-2/\",\n",
    "        \"https://nexcel.info/nexcel-career-development-handbook/\"\n",
    "    ],\n",
    "    \"contexts\": [\n",
    "        \"1.6. Individual/Committee Responsibilities \\\n",
    "        1.6.1. Supervisor’s Responsibilities\\\n",
    "        Prepare a list of potential candidates for promotion, and send it to Director/Unit Head no later than December 1st of the year when the promotion takes place.\\\n",
    "        Meet with the candidates to inform them about the promotion opportunities and discuss their future career goals/aspirations.\\\n",
    "        Ask the candidates to collect evidentiary materials and to use said materials to prepare for the Promotion Document.\\\n",
    "        Set a mutually agreeable schedule for completing the Promotion Document.\\\n",
    "        Verify and ensure the validity of the evidentiary materials provided by the candidates.\\\n",
    "        Inform the candidates of the final evaluation/approval results.\",\n",
    "        \"1.6.3. Promotion Committee’s Responsibilities\\\n",
    "        The Promotion Committee will assess if the candidate recommended for promotion is qualified and ready to take on the responsibilities \\\n",
    "        of the higher position and will advise the Director/Unit Head accordingly.\\\n",
    "        Members shall observe and validate the abilities and capabilities \\\n",
    "        of the potential candidate based on the evidentiary materials provided and the criteria/attributes listed in Evaluation Criteria, and finalize \\\n",
    "        the evaluation result by filling and completing the Promotion Assessment Form.\\\n",
    "        Members are responsible for ensuring that all decisions are taken in the best interests of the organization and that their role is carried out effectively.\\\n",
    "        Recommend advancement/promotion, or prepare notes/emails detailing reasons for denial and advising ways of improvement should a rejection decision be rendered.\\\n",
    "        Inform the Human Resource Department of the evaluation results.\",\n",
    "        \"1.6.2. Candidate’s Responsibilities\\\n",
    "        Collect evidentiary materials demonstrating he/she has the adequate level of seniority, qualifications, skills, impact, \\\n",
    "        and performance to take on the added responsibilities, and use said materials to prepare for the Promotion Document.\\\n",
    "        Submit the Promotion Document on the mutually agreeable schedule.\",\n",
    "        \"1.6.4. Human Resource Department’s Responsibilities\\\n",
    "        Human Resource Department shall recommend the Promotion Committee to Top Management for approval.\\\n",
    "        Inform the evaluation/approval results to Director/Unit Head or Supervisors.\\\n",
    "        Prepare the new contract appendices and inform the newly promoted employees about the changes in salary and benefits (if any).\",\n",
    "        \"2.8.3. Procedure\\nThe employee has to submit a written letter of resignation to the General Director, the HR-Admin Manager, and the direct leader and supervisor.\\\n",
    "        If the employee fails to give the required notice, the Company at its discretion has the right to withhold or deduct the employee’s salary in lieu of notice.\\\n",
    "        3. COMPENSATION AND BENEFITS\\\n",
    "        ============================\\\n",
    "        3.1. Compensation\",\n",
    "        \"'1.6.5. Director/Unit Head’s Responsibilities\\\n",
    "        Evaluate and approve of the candidates list provided by Supervisors.\\\n",
    "        Select candidates for Management Branch promotion.\\\n",
    "        Send candidates list and promotion request to Promotion Committee or Top Management.\\\n",
    "        Assess the listed candidates (at Assistant Engineer and Engineer levels) and make the final approval decision.\\\n",
    "        Evaluation Criteria\"\n",
    "    ],\n",
    "    \"indices\": [\n",
    "        40,\n",
    "        42,\n",
    "        41,\n",
    "        43,\n",
    "        3,\n",
    "        44\n",
    "    ]\n",
    "}\n"
   ]
  },
  {
   "cell_type": "code",
   "execution_count": null,
   "metadata": {},
   "outputs": [],
   "source": [
    "index = [10, 11]\n",
    "\n",
    "for i in index:\n",
    "    print(\"URL: \", chunks[i]['url'])\n",
    "    print(\"CHUNK: \", chunks[i]['content'])\n",
    "    print(\"=====================================================\")\n",
    "    print(\"\\n\")"
   ]
  },
  {
   "cell_type": "code",
   "execution_count": null,
   "metadata": {},
   "outputs": [],
   "source": [
    "# Late-chunking\n",
    "def late_chunking(text: str) -> str: \n",
    "    pass"
   ]
  },
  {
   "cell_type": "code",
   "execution_count": 28,
   "metadata": {},
   "outputs": [],
   "source": [
    "sumerize_text = \"Here are the main bullet points summarizing the content:\\n\\n* The Management Branch refers to managerial positions that oversee and manage groups or projects.\\n* Managerial positions are classified into two groups:\\n + Team Management: Supervisors/Managers who oversee daily activities of a group/team\\n + Project Management: Project Managers responsible for leading projects from initiation to completion\\n* There are 4 job titles (from Supervisor/Project Manager to Director/Program Director) for each group.\\n* The job grades at the Management Branch are as follows:\\n + Team Management:\\n - Level 1: Director, Program Director (no grade listed)\\n - Level 2: Manager, Program Manager (no grade listed)\\n - Level 3: Assistant Manager, Senior Project Manager (grade A)\\n + Project Management:\\n - Level 1: Project Manager/Assistant Project Manager\\n    * Grade A: 5+ years of experience as a Project Manager\\n    * Grades B and C not specified\\n - Level 2: Program Manager\\n    * Grade A listed for Assistant Project Managers (<3 years)\""
   ]
  },
  {
   "cell_type": "code",
   "execution_count": null,
   "metadata": {},
   "outputs": [],
   "source": [
    "# titles.json\n",
    "[\n",
    "    {\n",
    "        \"title\": \"\",\n",
    "        \"path\": \"vectordb_1.bin\"\n",
    "    },\n",
    "    ...\n",
    "]\n",
    "\n",
    "# headers.json\n",
    "[\n",
    "    {\n",
    "        \"header\": \"\",\n",
    "        \"path\": \"vectordb_1.bin\"\n",
    "    },\n",
    "    ...\n",
    "]\n",
    "\n",
    "# documents.json\n",
    "[\n",
    "    \"lmao\",\n",
    "    \"mvbj\",\n",
    "    ...\n",
    "]"
   ]
  },
  {
   "cell_type": "code",
   "execution_count": null,
   "metadata": {},
   "outputs": [],
   "source": [
    "from sentence_transformers import SentenceTransformer\n",
    "import torch\n",
    "\n",
    "# Download from the 🤗 Hub\n",
    "model = SentenceTransformer(\"hiieu/halong_embedding\")\n",
    "\n",
    "# Define query and documents\n",
    "query = sumerize_text\n",
    "docs = [\n",
    "    chunks[1]['content'],\n",
    "    chunks[2]['content'],\n",
    "    chunks[3]['content'],\n",
    "    chunks[4]['content'],\n",
    "    chunks[5]['content']\n",
    "]\n",
    "\n",
    "# Encode query and documents\n",
    "query_embedding = model.encode([query])\n",
    "doc_embeddings = model.encode(docs)\n",
    "similarities = model.similarity(query_embedding, doc_embeddings).flatten()\n",
    "\n",
    "# Sort documents by cosine similarity\n",
    "sorted_indices = torch.argsort(similarities, descending=True)\n",
    "sorted_docs = [docs[idx] for idx in sorted_indices]\n",
    "sorted_scores = [similarities[idx].item() for idx in sorted_indices]\n",
    "\n",
    "# Print sorted documents with their cosine scores\n",
    "for doc, score in zip(sorted_docs, sorted_scores):\n",
    "    print(f\"Document: {doc} - Cosine Similarity: {score:.4f}\")"
   ]
  },
  {
   "cell_type": "markdown",
   "metadata": {},
   "source": [
    "# ***<span style=\"color:green\">Web Crawler</span>***"
   ]
  },
  {
   "cell_type": "code",
   "execution_count": null,
   "metadata": {},
   "outputs": [
    {
     "name": "stdout",
     "output_type": "stream",
     "text": [
      "Content saved to 'employee_handbook.txt' and 'employee_handbook.md'\n"
     ]
    }
   ],
   "source": [
    "from googlesearch import search\n",
    "import requests\n",
    "from bs4 import BeautifulSoup\n",
    "from markdownify import markdownify as md\n",
    "\n",
    "# Tìm kiếm URL\n",
    "# query = \"Công ty Nexcel Solutions thành lập vào năm nào\"\n",
    "# search_results = list(search(query, num_results=6, advanced=True))\n",
    "# if search_results:\n",
    "#     url = search_results[0].url\n",
    "#     print(f\"Found URL: {url}\")\n",
    "# else:\n",
    "#     print(\"No URL found.\")\n",
    "#     exit()\n",
    "url = \"https://nexcel.info/nexcel-career-development-handbook/\"\n",
    "# Lấy nội dung từ URL\n",
    "response = requests.get(url)\n",
    "if response.status_code == 200:\n",
    "    html_content = response.text\n",
    "    soup = BeautifulSoup(html_content, \"html.parser\")\n",
    "    \n",
    "    # Lấy nội dung chính (giả sử trong thẻ <body>)\n",
    "    content = soup.get_text(separator=\"\\n\")\n",
    "    \n",
    "    # Lưu vào file .txt\n",
    "    with open(\"./employee_handbook.txt\", \"w\", encoding=\"utf-8\") as txt_file:\n",
    "        txt_file.write(content)\n",
    "    \n",
    "    # Chuyển đổi sang Markdown\n",
    "    markdown_content = md(html_content)\n",
    "    with open(\"./employee_handbook.md\", \"w\", encoding=\"utf-8\") as md_file:\n",
    "        md_file.write(markdown_content)\n",
    "    \n",
    "    print(\"Content saved to 'employee_handbook.txt' and 'employee_handbook.md'\")\n",
    "else:\n",
    "    print(f\"Failed to fetch the URL: {response.status_code}\")\n"
   ]
  },
  {
   "cell_type": "code",
   "execution_count": 12,
   "metadata": {},
   "outputs": [
    {
     "name": "stdout",
     "output_type": "stream",
     "text": [
      "[SearchResult(url=https://www.itjobs.com.vn/vi/employer/profile/nexcel-solutions-246, title=Nexcel Solutions - ITJobs.com.vn, description=Công TY TNHH Một Thành Viên Giải Pháp NEXCEL - Nexcel Solutions, một nhà ... ITJobs được thành lập vào năm 2014 tại Việt Nam và mục tiệu chính là trở ...), SearchResult(url=https://vn.linkedin.com/company/nexcel-solutions, title=Nexcel Solutions, description=Quy mô công ty: 201-500 nhân viên. Trụ sở: Ho Chi Minh, Ho Chi Minh. Loại hình: Privately Held. Thành lập: 2011. Vị trí. Chính. SMS Tower, Quang Trung Software ...), SearchResult(url=https://hosocongty.vn/cong-ty-tnhh-mot-thanh-vien-giai-phap-nexcel-com-83090.htm, title=công ty tnhh một thành viên giải pháp nexcel, description=Jan 31, 2023 — CÔNG TY TNHH MỘT THÀNH VIÊN GIẢI PHÁP NEXCEL · Đại diện pháp luật: AKAPAT RUKSAPHUN · Điện thoại: · Ngày cấp: 21/01/2010 · Ngành nghề chính: Tư vấn ...), SearchResult(url=https://www.topcv.vn/cong-ty/nexcel-solutions/116877.html, title=Nexcel Solutions, description=Tra cứu thông thông tin công ty Nexcel Solutions, danh sách tin tuyển dụng mới nhất từ Nexcel Solutions.), SearchResult(url=https://vn.linkedin.com/company/nexcel-solutions-llc?trk=public_profile_topcard-current-company, title=Nexcel Solutions, description=Liên kết ngoài cho Nexcel Solutions. Ngành: IT Services and IT Consulting. Quy mô công ty: 51-200 nhân viên. Trụ sở: Newark, DE. Loại hình: Privately Held.), SearchResult(url=https://congtytui.net/companies/nexcel-solutions?page=2, title=Review công ty Nexcel Solutions - 20 reviews, description=Đừng đọc từ các bài báo trên mạng nói rằng cứ cố gắng làm sẽ được sếp đề bạt, tăng lương thưởng. Xin lỗi nếu vài năm sau niềm tin đó làm bạn thất vọng. p/s: Một ...)]\n"
     ]
    }
   ],
   "source": [
    "print(search_results)"
   ]
  },
  {
   "cell_type": "code",
   "execution_count": 77,
   "metadata": {},
   "outputs": [],
   "source": [
    "import re\n",
    "\n",
    "markdown_content = re.sub(\"\\n\\n+\", \"\\n\", markdown_content)"
   ]
  },
  {
   "cell_type": "code",
   "execution_count": 85,
   "metadata": {},
   "outputs": [],
   "source": [
    "from langchain_text_splitters import MarkdownHeaderTextSplitter\n",
    "\n",
    "headers_to_split_on = [\n",
    "    (\"#\", \"Header 1\"),\n",
    "    (\"##\", \"Header 2\"),\n",
    "    (\"###\", \"Header 3\"),\n",
    "    (\"####\", \"Header 4\"),\n",
    "    (\"#####\", \"Header 5\"),\n",
    "]\n",
    "\n",
    "markdown_splitter = MarkdownHeaderTextSplitter(headers_to_split_on=headers_to_split_on, strip_headers=False)\n",
    "md_header_splits = markdown_splitter.split_text(markdown_content)"
   ]
  },
  {
   "cell_type": "code",
   "execution_count": null,
   "metadata": {},
   "outputs": [],
   "source": [
    "print(md_header_splits[4].page_content)"
   ]
  },
  {
   "cell_type": "code",
   "execution_count": null,
   "metadata": {},
   "outputs": [],
   "source": [
    "from bs4 import BeautifulSoup\n",
    "from markdown import markdown\n",
    "\n",
    "html = markdown(md_header_splits[4].page_content)\n",
    "text = ''.join(BeautifulSoup(html).findAll(text=True))"
   ]
  },
  {
   "cell_type": "code",
   "execution_count": null,
   "metadata": {},
   "outputs": [],
   "source": [
    "print(text)"
   ]
  },
  {
   "cell_type": "code",
   "execution_count": 97,
   "metadata": {},
   "outputs": [],
   "source": [
    "response = requests.get('http://nexcel.info/wp-content/uploads/2021/05/promotion-committee-assessment-form.jpg')"
   ]
  },
  {
   "cell_type": "code",
   "execution_count": 98,
   "metadata": {},
   "outputs": [
    {
     "data": {
      "text/plain": [
       "<Response [200]>"
      ]
     },
     "execution_count": 98,
     "metadata": {},
     "output_type": "execute_result"
    }
   ],
   "source": [
    "response"
   ]
  },
  {
   "cell_type": "code",
   "execution_count": 89,
   "metadata": {},
   "outputs": [],
   "source": [
    "from langchain_text_splitters import RecursiveCharacterTextSplitter\n",
    "\n",
    "chunk_size = 250\n",
    "chunk_overlap = 30\n",
    "text_splitter = RecursiveCharacterTextSplitter(\n",
    "    chunk_size=chunk_size, chunk_overlap=chunk_overlap\n",
    ")\n",
    "\n",
    "# Split\n",
    "splits = text_splitter.split_documents(md_header_splits)"
   ]
  },
  {
   "cell_type": "code",
   "execution_count": 96,
   "metadata": {},
   "outputs": [
    {
     "name": "stdout",
     "output_type": "stream",
     "text": [
      "| 3 | A | Assistant Manager | Senior Project Manager | 5+ years |\n",
      "|  | B |  |  |  |\n",
      "|  | C |  |  |  |\n",
      "| 4 | A | Supervisor/Tech Supervisor | Project Manager/Assistant Project Manager | Project Manager: 3+ years Assistant Project Manager: <3 years |\n"
     ]
    }
   ],
   "source": [
    "print(splits[100].page_content)"
   ]
  },
  {
   "cell_type": "code",
   "execution_count": 68,
   "metadata": {},
   "outputs": [],
   "source": [
    "from duckduckgo_search import DDGS\n",
    "import re\n",
    "from langchain_community.document_loaders import AsyncChromiumLoader\n",
    "from langchain_community.document_transformers import BeautifulSoupTransformer\n",
    "\n",
    "def gg_search(query):\n",
    "    # results = DDGS().text(query, max_results=5)\n",
    "    # print(results)\n",
    "    # urls = []\n",
    "    # for result in results:\n",
    "    #     url = result['href']\n",
    "    #     urls.append(url)\n",
    "    search_results = list(search(query, num_results=6, advanced=True))\n",
    "    contents = []\n",
    "    for result in search_results:\n",
    "        response = requests.get(result.url)\n",
    "        html_content = response.text\n",
    "        soup = BeautifulSoup(html_content, \"html.parser\")\n",
    "        content = soup.get_text(separator=\"\\n\")\n",
    "        page_text = re.sub(\"\\n\\n+\", \"\\n\", content)\n",
    "        # text = truncate(page_text)\n",
    "        contents.append(page_text)\n",
    "\n",
    "    return contents\n",
    "\n",
    "def ddg_search(query):\n",
    "    results = DDGS().text(query, max_results=5)\n",
    "    print(results)\n",
    "    urls = []\n",
    "    for result in results:\n",
    "        url = result['href']\n",
    "        urls.append(url)\n",
    "\n",
    "    docs = get_page(urls)\n",
    "\n",
    "    content = []\n",
    "    for doc in docs:\n",
    "        page_text = re.sub(\"\\n\\n+\", \"\\n\", doc.page_content)\n",
    "        # text = truncate(page_text)\n",
    "        content.append(page_text)\n",
    "\n",
    "    return content\n",
    "\n",
    "def get_page(urls):\n",
    "    loader = AsyncChromiumLoader(urls)\n",
    "    html = loader.load()\n",
    "\n",
    "    bs_transformer = BeautifulSoupTransformer()\n",
    "    docs_transformed = bs_transformer.transform_documents(html, tags_to_extract=[\"p\"], remove_unwanted_tags=[\"a\"])\n",
    "\n",
    "    return docs_transformed\n",
    "\n",
    "def truncate(text):\n",
    "    words = text.split()\n",
    "    truncated = \" \".join(words[:400])\n",
    "\n",
    "    return truncated "
   ]
  },
  {
   "cell_type": "code",
   "execution_count": 69,
   "metadata": {},
   "outputs": [],
   "source": [
    "content = gg_search(\"Công ty Nexcel Solutions thành lập vào năm nào ?\")"
   ]
  },
  {
   "cell_type": "code",
   "execution_count": 43,
   "metadata": {},
   "outputs": [],
   "source": [
    "path = 'https://nexcel.info/employee-handbook-2/'\n",
    "response = requests.get(path)\n",
    "html_content = response.text\n",
    "soup = BeautifulSoup(html_content, 'html.parser')\n",
    "all_text = soup.get_text(separator=\"\\n\")\n"
   ]
  },
  {
   "cell_type": "code",
   "execution_count": 46,
   "metadata": {},
   "outputs": [],
   "source": [
    "page_text = re.sub(\"\\n\\n+\", \"\\n\", all_text)"
   ]
  },
  {
   "cell_type": "code",
   "execution_count": null,
   "metadata": {},
   "outputs": [],
   "source": [
    "t = re.sub(\"\\n\\n+\", \"\\n\", markdown)\n",
    "print(t)"
   ]
  },
  {
   "cell_type": "code",
   "execution_count": 50,
   "metadata": {},
   "outputs": [
    {
     "name": "stderr",
     "output_type": "stream",
     "text": [
      "c:\\Users\\leon.pham\\AppData\\Local\\anaconda3\\envs\\langchain\\Lib\\site-packages\\bs4\\element.py:955: RuntimeWarning: coroutine 'AsyncChromiumLoader.ascrape_playwright' was never awaited\n",
      "  u.setup()\n",
      "RuntimeWarning: Enable tracemalloc to get the object allocation traceback\n"
     ]
    }
   ],
   "source": [
    "markdown = md(html_content)"
   ]
  },
  {
   "cell_type": "code",
   "execution_count": 53,
   "metadata": {},
   "outputs": [
    {
     "name": "stdout",
     "output_type": "stream",
     "text": [
      "<class 'str'>\n"
     ]
    }
   ],
   "source": [
    "print(type(markdown))"
   ]
  },
  {
   "cell_type": "code",
   "execution_count": null,
   "metadata": {},
   "outputs": [],
   "source": [
    "print(page_text)"
   ]
  },
  {
   "cell_type": "code",
   "execution_count": null,
   "metadata": {},
   "outputs": [],
   "source": [
    "print(content[0])"
   ]
  },
  {
   "cell_type": "code",
   "execution_count": 73,
   "metadata": {},
   "outputs": [],
   "source": [
    "links = [a['href'] for a in soup.find_all('a', href=True)]"
   ]
  },
  {
   "cell_type": "markdown",
   "metadata": {},
   "source": [
    "# ***<span style=\"color:green\">Sentence Similarity</span>***"
   ]
  },
  {
   "cell_type": "code",
   "execution_count": null,
   "metadata": {},
   "outputs": [],
   "source": [
    "from sentence_transformers import SentenceTransformer\n",
    "\n",
    "# Load the pre-trained SentenceTransformer model\n",
    "model = SentenceTransformer(\"nomic-ai/modernbert-embed-base\")\n",
    "\n",
    "# Define query embeddings\n",
    "query_embeddings = model.encode([\n",
    "    \"search_query: Show me some Idividual Responsibilities\",\n",
    "    \"search_query: Who is Laurens van der Maaten?\",\n",
    "])\n",
    "\n",
    "# Define document embeddings\n",
    "doc_embeddings = model.encode([\n",
    "    \"\"\"1.6. Individual/Committee Responsibilities\n",
    "    1.6.1. Supervisor’s Responsibilities\n",
    "    - Prepare a list of potential candidates for promotion and send it to Director/Unit Head no later than December 1st of the year when the promotion takes place.\n",
    "    - Meet with the candidates to inform them about the promotion opportunities and discuss their future career goals/aspirations.\n",
    "    - Ask the candidates to collect evidentiary materials and to use said materials to prepare for the Promotion Document.\n",
    "    - Set a mutually agreeable schedule for completing the Promotion Document.\n",
    "    - Verify and ensure the validity of the evidentiary materials provided by the candidates.\n",
    "    - Inform the candidates of the final evaluation/approval results.\n",
    "\n",
    "    1.6.3. Promotion Committee’s Responsibilities\n",
    "    - The Promotion Committee will assess if the candidate recommended for promotion is qualified and ready to take on the responsibilities of the higher position and will advise the Director/Unit Head accordingly.\n",
    "    - Members shall observe and validate the abilities and capabilities of the potential candidate based on the evidentiary materials provided and the criteria/attributes listed in Evaluation Criteria, and finalize the evaluation result by filling and completing the Promotion Assessment Form.\n",
    "    - Members are responsible for ensuring that all decisions are taken in the best interests of the organization and that their role is carried out effectively.\n",
    "    - Recommend advancement/promotion or prepare notes/emails detailing reasons for denial and advising ways of improvement should a rejection decision be rendered.\n",
    "    - Inform the Human Resource Department of the evaluation results.\n",
    "    \"\"\"\n",
    "])\n",
    "\n",
    "# Print the shapes of the embeddings\n",
    "print(query_embeddings.shape, doc_embeddings.shape)\n",
    "# Output: (2, 768) (1, 768)\n",
    "\n",
    "# Calculate similarities between queries and the document\n",
    "similarities = model.similarity(query_embeddings, doc_embeddings)\n",
    "\n",
    "# Print the similarity scores\n",
    "print(similarities)\n",
    "# Example Output:\n",
    "# tensor([[0.7214],\n",
    "#         [0.3260]])\n"
   ]
  },
  {
   "cell_type": "code",
   "execution_count": 16,
   "metadata": {},
   "outputs": [
    {
     "data": {
      "image/png": "[encoded data removed]",
      "text/plain": [
       "<Figure size 640x480 with 1 Axes>"
      ]
     },
     "metadata": {},
     "output_type": "display_data"
    }
   ],
   "source": [
    "import cv2\n",
    "import numpy as np\n",
    "import requests\n",
    "from matplotlib import pyplot as plt\n",
    "\n",
    "# URL of the image\n",
    "image_url = \"https://nexcel.info/wp-content/uploads/2021/05/promotion-committee-assessment-form.jpg\"\n",
    "\n",
    "# Fetch the image using requests\n",
    "response = requests.get(image_url)\n",
    "if response.status_code == 200:\n",
    "    # Convert the content to a NumPy array and decode it into an image\n",
    "    image_data = np.frombuffer(response.content, np.uint8)\n",
    "    image = cv2.imdecode(image_data, cv2.IMREAD_COLOR)\n",
    "\n",
    "    # Convert the image to RGB (from BGR) for displaying with matplotlib\n",
    "    image_rgb = cv2.cvtColor(image, cv2.COLOR_BGR2RGB)\n",
    "\n",
    "    # Display the image using matplotlib\n",
    "    plt.imshow(image_rgb)\n",
    "    plt.axis('off')  # Hide axes for better display\n",
    "    plt.show()\n",
    "else:\n",
    "    print(f\"Failed to fetch the image. Status code: {response.status_code}\")\n"
   ]
  },
  {
   "cell_type": "markdown",
   "metadata": {},
   "source": [
    "# ***<span style=\"color:green\">RAG</span>***"
   ]
  },
  {
   "cell_type": "code",
   "execution_count": null,
   "metadata": {},
   "outputs": [],
   "source": [
    "# To install all available features\n",
    "!pip3 install \"crawl4ai[all]\"\n",
    "\n",
    "# After installation, download the necessary models for better performance:\n",
    "!crawl4ai-download-models\n",
    "\n",
    "# Lastly, install Playwright dependencies\n",
    "!playwright install "
   ]
  },
  {
   "cell_type": "code",
   "execution_count": 2,
   "metadata": {},
   "outputs": [],
   "source": [
    "with open('D:\\Desktop\\chatbot4group\\data\\Employee Handbook – Nexcel Info Site.html', 'r') as file:\n",
    "    html_as_string = file.read()"
   ]
  },
  {
   "cell_type": "code",
   "execution_count": null,
   "metadata": {},
   "outputs": [],
   "source": [
    "print(html_as_string)"
   ]
  },
  {
   "cell_type": "code",
   "execution_count": 1,
   "metadata": {},
   "outputs": [],
   "source": [
    "import requests\n",
    "\n",
    "url = 'https://nexcel.info/employee-handbook-2/'  # Replace with your desired URL\n",
    "response = requests.get(url)\n",
    "\n",
    "if response.status_code == 200:\n",
    "    html_content = response.text\n",
    "else:\n",
    "    print('Failed to retrieve the document')"
   ]
  },
  {
   "cell_type": "code",
   "execution_count": null,
   "metadata": {},
   "outputs": [],
   "source": [
    "from bs4 import BeautifulSoup\n",
    "\n",
    "# Parse the HTML content\n",
    "soup = BeautifulSoup(html_content, 'html.parser')\n",
    "\n",
    "# Pretty-printing the parsed HTML\n",
    "print(soup.prettify())"
   ]
  },
  {
   "cell_type": "code",
   "execution_count": 4,
   "metadata": {},
   "outputs": [
    {
     "name": "stdout",
     "output_type": "stream",
     "text": [
      "Page Title: Employee Handbook – Nexcel Info Site\n"
     ]
    }
   ],
   "source": [
    "title = soup.title.string\n",
    "print(f'Page Title: {title}')"
   ]
  },
  {
   "cell_type": "code",
   "execution_count": null,
   "metadata": {},
   "outputs": [],
   "source": [
    "all_text = soup.get_text()\n",
    "print(all_text)"
   ]
  },
  {
   "cell_type": "code",
   "execution_count": null,
   "metadata": {},
   "outputs": [],
   "source": [
    "links = [a['href'] for a in soup.find_all('a', href=True)]\n",
    "print('Links Found:', links)"
   ]
  },
  {
   "cell_type": "code",
   "execution_count": null,
   "metadata": {},
   "outputs": [],
   "source": [
    "data = {\n",
    "    'title': title,\n",
    "    'text': all_text,\n",
    "    'links': links\n",
    "}\n",
    "\n",
    "print('Structured Data:', data)"
   ]
  },
  {
   "cell_type": "code",
   "execution_count": null,
   "metadata": {},
   "outputs": [],
   "source": [
    "from langchain.schema import Document\n",
    "\n",
    "document = Document(\n",
    "    page_content=data['text'],\n",
    "    metadata={\n",
    "        'title': data['title'],\n",
    "        'links': data['links'],\n",
    "    }\n",
    ")\n",
    "\n",
    "print('LangChain Document Created:', document)"
   ]
  },
  {
   "cell_type": "code",
   "execution_count": 31,
   "metadata": {},
   "outputs": [
    {
     "name": "stdout",
     "output_type": "stream",
     "text": [
      "Number of Chunks Created: 164\n"
     ]
    }
   ],
   "source": [
    "from langchain.text_splitter import RecursiveCharacterTextSplitter\n",
    "\n",
    "# Splitting the document into manageable chunks\n",
    "text_splitter = RecursiveCharacterTextSplitter()\n",
    "text_splitter._chunk_size = 500\n",
    "text_splitter._chunk_overlap = 20\n",
    "documents = text_splitter.split_documents([document])\n",
    "\n",
    "print(f'Number of Chunks Created: {len(documents)}')"
   ]
  },
  {
   "cell_type": "code",
   "execution_count": 26,
   "metadata": {},
   "outputs": [],
   "source": [
    "import re\n",
    "\n",
    "\n",
    "def format_text(text):\n",
    "    # Step 1: Remove excess whitespace and ensure consistent formatting\n",
    "    text = re.sub(r'\\n+', '\\n', text.strip())\n",
    "    \n",
    "    # Step 2: Break the text into major sections based on patterns like '------'\n",
    "    sections = re.split(r'\\n[-=]+\\n', text)\n",
    "    \n",
    "    formatted_text = ''\n",
    "    \n",
    "    for section in sections:\n",
    "        # Step 3: For each section, process the title and content\n",
    "        lines = section.strip().split('\\n')\n",
    "        title = lines[0]\n",
    "        content = '\\n'.join(lines[1:])\n",
    "        \n",
    "        # Step 4: Add title to formatted text\n",
    "        formatted_text += title + '\\n' + '-' * len(title) + '\\n'\n",
    "        \n",
    "        # Step 5: Handle indentation for nested bullet points\n",
    "        formatted_text += format_content(content) + '\\n\\n'\n",
    "    \n",
    "    return formatted_text.strip()\n",
    "\n",
    "\n",
    "\n",
    "def format_content(content):\n",
    "    lines = content.split('\\n')\n",
    "    formatted_lines = []\n",
    "    indent_level = 0\n",
    "\n",
    "    for line in lines:\n",
    "        if line.startswith('-'):\n",
    "            # Bullet points, so we add indentation\n",
    "            formatted_lines.append('  ' * indent_level + line)\n",
    "        else:\n",
    "            # Non-bullet point, reset indentation\n",
    "            if line.strip() == '':\n",
    "                formatted_lines.append('')\n",
    "            else:\n",
    "                formatted_lines.append('  ' * indent_level + line)\n",
    "        \n",
    "        # Increase indent if the line is a section heading\n",
    "        if re.search(r'[A-Za-z\\s]+$', line):\n",
    "            indent_level += 1\n",
    "    \n",
    "    return '\\n'.join(formatted_lines)\n",
    "\n",
    "\n",
    "\n",
    "def format_content_for_markdown(content):\n",
    "    lines = content.split('\\n')\n",
    "    formatted_lines = []\n",
    "    indent_level = 0\n",
    "\n",
    "    for line in lines:\n",
    "        if line.startswith('-'):\n",
    "            # Bullet points, add indentation\n",
    "            formatted_lines.append('  ' * indent_level + line)\n",
    "        else:\n",
    "            # Non-bullet point, reset indentation\n",
    "            if line.strip() == '':\n",
    "                formatted_lines.append('')\n",
    "            else:\n",
    "                formatted_lines.append('  ' * indent_level + line)\n",
    "        \n",
    "        # Increase indent if the line is a sub-section heading\n",
    "        if re.search(r'[A-Za-z\\s]+$', line):\n",
    "            indent_level += 1\n",
    "    \n",
    "    return '\\n'.join(formatted_lines)\n",
    "\n",
    "\n",
    "\n",
    "def format_to_markdown(text):\n",
    "    # Step 1: Remove excess whitespace and ensure consistent formatting\n",
    "    text = re.sub(r'\\n+', '\\n', text.strip())\n",
    "    \n",
    "    # Step 2: Break the text into major sections based on patterns like '------'\n",
    "    sections = re.split(r'\\n[-=]+\\n', text)\n",
    "    \n",
    "    markdown_text = ''\n",
    "    \n",
    "    for section in sections:\n",
    "        # Step 3: For each section, process the title and content\n",
    "        lines = section.strip().split('\\n')\n",
    "        title = lines[0]\n",
    "        content = '\\n'.join(lines[1:])\n",
    "        \n",
    "        # Step 4: Add title to markdown text as H1\n",
    "        markdown_text += f'# {title}\\n\\n'\n",
    "        \n",
    "        # Step 5: Handle indentation for nested bullet points\n",
    "        markdown_text += format_content_for_markdown(content) + '\\n\\n'\n",
    "    \n",
    "    return markdown_text.strip()"
   ]
  },
  {
   "cell_type": "code",
   "execution_count": 27,
   "metadata": {},
   "outputs": [],
   "source": [
    "t = format_content(documents[0].page_content)"
   ]
  },
  {
   "cell_type": "code",
   "execution_count": 1,
   "metadata": {},
   "outputs": [
    {
     "name": "stdout",
     "output_type": "stream",
     "text": [
      "Write a delicious recipe for pasta with a spicy twist.\n"
     ]
    }
   ],
   "source": [
    "from langchain.prompts import PromptTemplate\n",
    "\n",
    "prompt_template = PromptTemplate.from_template(\n",
    "  \"Write a delicious recipe for {dish} with a {flavor} twist.\"\n",
    ")\n",
    "\n",
    "# Formatting the prompt with new content\n",
    "formatted_prompt = prompt_template.format(dish=\"pasta\", flavor=\"spicy\")\n",
    "\n",
    "print(formatted_prompt)"
   ]
  },
  {
   "cell_type": "code",
   "execution_count": null,
   "metadata": {},
   "outputs": [],
   "source": [
    "import time\n",
    "\n",
    "def nextSquare():\n",
    "    i = 1\n",
    " \n",
    "    # An Infinite loop to generate squares\n",
    "    while True:\n",
    "        yield i*i\n",
    "        i += 1  # Next execution resumes\n",
    "        time.sleep(4)\n",
    "        # from this point\n",
    " \n",
    " \n",
    "# Driver code to test above generator\n",
    "# function\n",
    "for num in nextSquare():\n",
    "    if num > 100:\n",
    "        break\n",
    "    print(num)"
   ]
  },
  {
   "cell_type": "code",
   "execution_count": 2,
   "metadata": {},
   "outputs": [
    {
     "name": "stdout",
     "output_type": "stream",
     "text": [
      "Question: What is the tallest mountain in the world?\n",
      "Mount Everest\n",
      "\n",
      "Question: What is the largest ocean on Earth?\n",
      "Pacific Ocean\n",
      "\n",
      "Question: In which year did the first airplane fly?\n",
      "1903\n",
      "\n",
      "Question: What is the name of the famous clock tower in London?\n"
     ]
    }
   ],
   "source": [
    "from langchain.prompts.few_shot import FewShotPromptTemplate\n",
    "from langchain.prompts.prompt import PromptTemplate\n",
    "\n",
    "examples = [\n",
    "    {\n",
    "        \"question\": \"What is the tallest mountain in the world?\",\n",
    "        \"answer\": \"Mount Everest\",\n",
    "    },\n",
    "    {\"question\": \"What is the largest ocean on Earth?\", \"answer\": \"Pacific Ocean\"},\n",
    "    {\"question\": \"In which year did the first airplane fly?\", \"answer\": \"1903\"},\n",
    "]\n",
    "\n",
    "example_prompt = PromptTemplate(\n",
    "    input_variables=[\"question\", \"answer\"],\n",
    "    template=\"Question: {question}\\n{answer}\",\n",
    ")\n",
    "prompt_template = FewShotPromptTemplate(\n",
    "    examples=examples,\n",
    "    example_prompt=example_prompt,\n",
    "    suffix=\"Question: {input}\",\n",
    "    input_variables=[\"input\"],\n",
    ")\n",
    "\n",
    "print(\n",
    "    prompt_template.format(\n",
    "        input=\"What is the name of the famous clock tower in London?\"\n",
    "    )\n",
    ")"
   ]
  },
  {
   "cell_type": "code",
   "execution_count": null,
   "metadata": {},
   "outputs": [],
   "source": []
  }
 ],
 "metadata": {
  "kernelspec": {
   "display_name": "langchain",
   "language": "python",
   "name": "python3"
  },
  "language_info": {
   "codemirror_mode": {
    "name": "ipython",
    "version": 3
   },
   "file_extension": ".py",
   "mimetype": "text/x-python",
   "name": "python",
   "nbconvert_exporter": "python",
   "pygments_lexer": "ipython3",
   "version": "3.11.11"
  }
 },
 "nbformat": 4,
 "nbformat_minor": 2
}
