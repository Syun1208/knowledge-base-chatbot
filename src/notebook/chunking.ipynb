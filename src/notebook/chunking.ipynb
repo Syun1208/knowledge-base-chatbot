{
 "cells": [
  {
   "cell_type": "code",
   "execution_count": null,
   "metadata": {},
   "outputs": [],
   "source": [
    "# To install all available features\n",
    "!pip3 install \"crawl4ai[all]\"\n",
    "\n",
    "# After installation, download the necessary models for better performance:\n",
    "!crawl4ai-download-models\n",
    "\n",
    "# Lastly, install Playwright dependencies\n",
    "!playwright install "
   ]
  },
  {
   "cell_type": "code",
   "execution_count": 2,
   "metadata": {},
   "outputs": [],
   "source": [
    "with open('D:\\Desktop\\chatbot4group\\data\\Employee Handbook – Nexcel Info Site.html', 'r') as file:\n",
    "    html_as_string = file.read()"
   ]
  },
  {
   "cell_type": "code",
   "execution_count": null,
   "metadata": {},
   "outputs": [],
   "source": [
    "print(html_as_string)"
   ]
  },
  {
   "cell_type": "code",
   "execution_count": 1,
   "metadata": {},
   "outputs": [],
   "source": [
    "import requests\n",
    "\n",
    "url = 'https://nexcel.info/employee-handbook-2/'  # Replace with your desired URL\n",
    "response = requests.get(url)\n",
    "\n",
    "if response.status_code == 200:\n",
    "    html_content = response.text\n",
    "else:\n",
    "    print('Failed to retrieve the document')"
   ]
  },
  {
   "cell_type": "code",
   "execution_count": null,
   "metadata": {},
   "outputs": [],
   "source": [
    "from bs4 import BeautifulSoup\n",
    "\n",
    "# Parse the HTML content\n",
    "soup = BeautifulSoup(html_content, 'html.parser')\n",
    "\n",
    "# Pretty-printing the parsed HTML\n",
    "print(soup.prettify())"
   ]
  },
  {
   "cell_type": "code",
   "execution_count": 4,
   "metadata": {},
   "outputs": [
    {
     "name": "stdout",
     "output_type": "stream",
     "text": [
      "Page Title: Employee Handbook – Nexcel Info Site\n"
     ]
    }
   ],
   "source": [
    "title = soup.title.string\n",
    "print(f'Page Title: {title}')"
   ]
  },
  {
   "cell_type": "code",
   "execution_count": null,
   "metadata": {},
   "outputs": [],
   "source": [
    "all_text = soup.get_text()\n",
    "print(all_text)"
   ]
  },
  {
   "cell_type": "code",
   "execution_count": null,
   "metadata": {},
   "outputs": [],
   "source": [
    "links = [a['href'] for a in soup.find_all('a', href=True)]\n",
    "print('Links Found:', links)"
   ]
  },
  {
   "cell_type": "code",
   "execution_count": null,
   "metadata": {},
   "outputs": [],
   "source": [
    "data = {\n",
    "    'title': title,\n",
    "    'text': all_text,\n",
    "    'links': links\n",
    "}\n",
    "\n",
    "print('Structured Data:', data)"
   ]
  },
  {
   "cell_type": "code",
   "execution_count": null,
   "metadata": {},
   "outputs": [],
   "source": [
    "from langchain.schema import Document\n",
    "\n",
    "document = Document(\n",
    "    page_content=data['text'],\n",
    "    metadata={\n",
    "        'title': data['title'],\n",
    "        'links': data['links'],\n",
    "    }\n",
    ")\n",
    "\n",
    "print('LangChain Document Created:', document)"
   ]
  },
  {
   "cell_type": "code",
   "execution_count": 31,
   "metadata": {},
   "outputs": [
    {
     "name": "stdout",
     "output_type": "stream",
     "text": [
      "Number of Chunks Created: 164\n"
     ]
    }
   ],
   "source": [
    "from langchain.text_splitter import RecursiveCharacterTextSplitter\n",
    "\n",
    "# Splitting the document into manageable chunks\n",
    "text_splitter = RecursiveCharacterTextSplitter()\n",
    "text_splitter._chunk_size = 500\n",
    "text_splitter._chunk_overlap = 20\n",
    "documents = text_splitter.split_documents([document])\n",
    "\n",
    "print(f'Number of Chunks Created: {len(documents)}')"
   ]
  },
  {
   "cell_type": "code",
   "execution_count": 26,
   "metadata": {},
   "outputs": [],
   "source": [
    "import re\n",
    "\n",
    "\n",
    "def format_text(text):\n",
    "    # Step 1: Remove excess whitespace and ensure consistent formatting\n",
    "    text = re.sub(r'\\n+', '\\n', text.strip())\n",
    "    \n",
    "    # Step 2: Break the text into major sections based on patterns like '------'\n",
    "    sections = re.split(r'\\n[-=]+\\n', text)\n",
    "    \n",
    "    formatted_text = ''\n",
    "    \n",
    "    for section in sections:\n",
    "        # Step 3: For each section, process the title and content\n",
    "        lines = section.strip().split('\\n')\n",
    "        title = lines[0]\n",
    "        content = '\\n'.join(lines[1:])\n",
    "        \n",
    "        # Step 4: Add title to formatted text\n",
    "        formatted_text += title + '\\n' + '-' * len(title) + '\\n'\n",
    "        \n",
    "        # Step 5: Handle indentation for nested bullet points\n",
    "        formatted_text += format_content(content) + '\\n\\n'\n",
    "    \n",
    "    return formatted_text.strip()\n",
    "\n",
    "\n",
    "\n",
    "def format_content(content):\n",
    "    lines = content.split('\\n')\n",
    "    formatted_lines = []\n",
    "    indent_level = 0\n",
    "\n",
    "    for line in lines:\n",
    "        if line.startswith('-'):\n",
    "            # Bullet points, so we add indentation\n",
    "            formatted_lines.append('  ' * indent_level + line)\n",
    "        else:\n",
    "            # Non-bullet point, reset indentation\n",
    "            if line.strip() == '':\n",
    "                formatted_lines.append('')\n",
    "            else:\n",
    "                formatted_lines.append('  ' * indent_level + line)\n",
    "        \n",
    "        # Increase indent if the line is a section heading\n",
    "        if re.search(r'[A-Za-z\\s]+$', line):\n",
    "            indent_level += 1\n",
    "    \n",
    "    return '\\n'.join(formatted_lines)\n",
    "\n",
    "\n",
    "\n",
    "def format_content_for_markdown(content):\n",
    "    lines = content.split('\\n')\n",
    "    formatted_lines = []\n",
    "    indent_level = 0\n",
    "\n",
    "    for line in lines:\n",
    "        if line.startswith('-'):\n",
    "            # Bullet points, add indentation\n",
    "            formatted_lines.append('  ' * indent_level + line)\n",
    "        else:\n",
    "            # Non-bullet point, reset indentation\n",
    "            if line.strip() == '':\n",
    "                formatted_lines.append('')\n",
    "            else:\n",
    "                formatted_lines.append('  ' * indent_level + line)\n",
    "        \n",
    "        # Increase indent if the line is a sub-section heading\n",
    "        if re.search(r'[A-Za-z\\s]+$', line):\n",
    "            indent_level += 1\n",
    "    \n",
    "    return '\\n'.join(formatted_lines)\n",
    "\n",
    "\n",
    "\n",
    "def format_to_markdown(text):\n",
    "    # Step 1: Remove excess whitespace and ensure consistent formatting\n",
    "    text = re.sub(r'\\n+', '\\n', text.strip())\n",
    "    \n",
    "    # Step 2: Break the text into major sections based on patterns like '------'\n",
    "    sections = re.split(r'\\n[-=]+\\n', text)\n",
    "    \n",
    "    markdown_text = ''\n",
    "    \n",
    "    for section in sections:\n",
    "        # Step 3: For each section, process the title and content\n",
    "        lines = section.strip().split('\\n')\n",
    "        title = lines[0]\n",
    "        content = '\\n'.join(lines[1:])\n",
    "        \n",
    "        # Step 4: Add title to markdown text as H1\n",
    "        markdown_text += f'# {title}\\n\\n'\n",
    "        \n",
    "        # Step 5: Handle indentation for nested bullet points\n",
    "        markdown_text += format_content_for_markdown(content) + '\\n\\n'\n",
    "    \n",
    "    return markdown_text.strip()"
   ]
  },
  {
   "cell_type": "code",
   "execution_count": 27,
   "metadata": {},
   "outputs": [],
   "source": [
    "t = format_content(documents[0].page_content)"
   ]
  },
  {
   "cell_type": "code",
   "execution_count": 1,
   "metadata": {},
   "outputs": [
    {
     "name": "stdout",
     "output_type": "stream",
     "text": [
      "Write a delicious recipe for pasta with a spicy twist.\n"
     ]
    }
   ],
   "source": [
    "from langchain.prompts import PromptTemplate\n",
    "\n",
    "prompt_template = PromptTemplate.from_template(\n",
    "  \"Write a delicious recipe for {dish} with a {flavor} twist.\"\n",
    ")\n",
    "\n",
    "# Formatting the prompt with new content\n",
    "formatted_prompt = prompt_template.format(dish=\"pasta\", flavor=\"spicy\")\n",
    "\n",
    "print(formatted_prompt)"
   ]
  },
  {
   "cell_type": "code",
   "execution_count": null,
   "metadata": {},
   "outputs": [],
   "source": [
    "import time\n",
    "\n",
    "def nextSquare():\n",
    "    i = 1\n",
    " \n",
    "    # An Infinite loop to generate squares\n",
    "    while True:\n",
    "        yield i*i\n",
    "        i += 1  # Next execution resumes\n",
    "        time.sleep(4)\n",
    "        # from this point\n",
    " \n",
    " \n",
    "# Driver code to test above generator\n",
    "# function\n",
    "for num in nextSquare():\n",
    "    if num > 100:\n",
    "        break\n",
    "    print(num)"
   ]
  },
  {
   "cell_type": "code",
   "execution_count": 2,
   "metadata": {},
   "outputs": [
    {
     "name": "stdout",
     "output_type": "stream",
     "text": [
      "Question: What is the tallest mountain in the world?\n",
      "Mount Everest\n",
      "\n",
      "Question: What is the largest ocean on Earth?\n",
      "Pacific Ocean\n",
      "\n",
      "Question: In which year did the first airplane fly?\n",
      "1903\n",
      "\n",
      "Question: What is the name of the famous clock tower in London?\n"
     ]
    }
   ],
   "source": [
    "from langchain.prompts.few_shot import FewShotPromptTemplate\n",
    "from langchain.prompts.prompt import PromptTemplate\n",
    "\n",
    "examples = [\n",
    "    {\n",
    "        \"question\": \"What is the tallest mountain in the world?\",\n",
    "        \"answer\": \"Mount Everest\",\n",
    "    },\n",
    "    {\"question\": \"What is the largest ocean on Earth?\", \"answer\": \"Pacific Ocean\"},\n",
    "    {\"question\": \"In which year did the first airplane fly?\", \"answer\": \"1903\"},\n",
    "]\n",
    "\n",
    "example_prompt = PromptTemplate(\n",
    "    input_variables=[\"question\", \"answer\"],\n",
    "    template=\"Question: {question}\\n{answer}\",\n",
    ")\n",
    "prompt_template = FewShotPromptTemplate(\n",
    "    examples=examples,\n",
    "    example_prompt=example_prompt,\n",
    "    suffix=\"Question: {input}\",\n",
    "    input_variables=[\"input\"],\n",
    ")\n",
    "\n",
    "print(\n",
    "    prompt_template.format(\n",
    "        input=\"What is the name of the famous clock tower in London?\"\n",
    "    )\n",
    ")"
   ]
  },
  {
   "cell_type": "code",
   "execution_count": null,
   "metadata": {},
   "outputs": [],
   "source": []
  }
 ],
 "metadata": {
  "kernelspec": {
   "display_name": "langchain",
   "language": "python",
   "name": "python3"
  },
  "language_info": {
   "codemirror_mode": {
    "name": "ipython",
    "version": 3
   },
   "file_extension": ".py",
   "mimetype": "text/x-python",
   "name": "python",
   "nbconvert_exporter": "python",
   "pygments_lexer": "ipython3",
   "version": "3.11.11"
  }
 },
 "nbformat": 4,
 "nbformat_minor": 2
}
