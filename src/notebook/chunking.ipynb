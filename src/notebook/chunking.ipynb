{
 "cells": [
  {
   "cell_type": "code",
   "execution_count": 17,
   "metadata": {},
   "outputs": [],
   "source": [
    "import requests\n",
    "from langchain_text_splitters import MarkdownHeaderTextSplitter\n",
    "from markdownify import markdownify as md\n",
    "import re\n",
    "from markdown import markdown\n",
    "from bs4 import BeautifulSoup\n",
    "import re"
   ]
  },
  {
   "cell_type": "markdown",
   "metadata": {},
   "source": [
    "# ***<span style=\"color:green\">Chunking</span>***"
   ]
  },
  {
   "cell_type": "code",
   "execution_count": 2,
   "metadata": {},
   "outputs": [],
   "source": [
    "url = \"https://nexcel.info/nexcel-career-development-handbook/\"\n",
    "response = requests.get(url)"
   ]
  },
  {
   "cell_type": "code",
   "execution_count": 8,
   "metadata": {},
   "outputs": [],
   "source": [
    "def convert_html2markdown(html_content: str) -> str:\n",
    "    markdown_content = md(html_content)\n",
    "    markdown_content = re.sub(\"\\n\\n+\", \"\\n\", markdown_content)\n",
    "    return markdown_content"
   ]
  },
  {
   "cell_type": "code",
   "execution_count": 9,
   "metadata": {},
   "outputs": [],
   "source": [
    "markdown_content = convert_html2markdown(response.text)"
   ]
  },
  {
   "cell_type": "code",
   "execution_count": null,
   "metadata": {},
   "outputs": [],
   "source": [
    "print(markdown_content)"
   ]
  },
  {
   "cell_type": "code",
   "execution_count": 12,
   "metadata": {},
   "outputs": [],
   "source": [
    "headers_to_split_on = [\n",
    "    (\"#\", \"Header 1\"),\n",
    "    (\"##\", \"Header 2\"),\n",
    "    (\"###\", \"Header 3\"),\n",
    "    (\"####\", \"Header 4\"),\n",
    "    (\"#####\", \"Header 5\"),\n",
    "]"
   ]
  },
  {
   "cell_type": "code",
   "execution_count": 13,
   "metadata": {},
   "outputs": [],
   "source": [
    "markdown_splitter = MarkdownHeaderTextSplitter(\n",
    "    headers_to_split_on=headers_to_split_on, \n",
    "    strip_headers=False\n",
    ")"
   ]
  },
  {
   "cell_type": "code",
   "execution_count": 14,
   "metadata": {},
   "outputs": [],
   "source": [
    "md_header_splits = markdown_splitter.split_text(markdown_content)"
   ]
  },
  {
   "cell_type": "code",
   "execution_count": 18,
   "metadata": {},
   "outputs": [
    {
     "name": "stderr",
     "output_type": "stream",
     "text": [
      "C:\\Users\\leon.pham\\AppData\\Local\\Temp\\ipykernel_24032\\3418514738.py:4: DeprecationWarning: The 'text' argument to find()-type methods is deprecated. Use 'string' instead.\n",
      "  page_content = ''.join(BeautifulSoup(html).findAll(text=True))\n"
     ]
    }
   ],
   "source": [
    "chunks = []\n",
    "for md_header_split in md_header_splits:\n",
    "    html = markdown(md_header_split.page_content)\n",
    "    page_content = ''.join(BeautifulSoup(html).findAll(text=True))\n",
    "    page_content = re.sub(r'\\| --- \\| --- \\| --- \\|', '', page_content)\n",
    "    page_content = re.sub(r'\\n+', '\\n', page_content).strip()\n",
    "    chunks.append({\n",
    "        'url': url,\n",
    "        'content': page_content\n",
    "})"
   ]
  },
  {
   "cell_type": "code",
   "execution_count": null,
   "metadata": {},
   "outputs": [],
   "source": [
    "{\n",
    "    \"scores\": [\n",
    "        0.48051196336746216,\n",
    "        0.41029220819473267,\n",
    "        0.39632341265678406,\n",
    "        0.37228578329086304,\n",
    "        0.3333017826080322,\n",
    "        0.2796628475189209\n",
    "    ],\n",
    "    \"urls\": [\n",
    "        \"https://nexcel.info/nexcel-career-development-handbook/\",\n",
    "        \"https://nexcel.info/nexcel-career-development-handbook/\",\n",
    "        \"https://nexcel.info/nexcel-career-development-handbook/\",\n",
    "        \"https://nexcel.info/nexcel-career-development-handbook/\",\n",
    "        \"https://nexcel.info/employee-handbook-2/\",\n",
    "        \"https://nexcel.info/nexcel-career-development-handbook/\"\n",
    "    ],\n",
    "    \"contexts\": [\n",
    "        \"1.6. Individual/Committee Responsibilities \\\n",
    "        1.6.1. Supervisor’s Responsibilities\\\n",
    "        Prepare a list of potential candidates for promotion, and send it to Director/Unit Head no later than December 1st of the year when the promotion takes place.\\\n",
    "        Meet with the candidates to inform them about the promotion opportunities and discuss their future career goals/aspirations.\\\n",
    "        Ask the candidates to collect evidentiary materials and to use said materials to prepare for the Promotion Document.\\\n",
    "        Set a mutually agreeable schedule for completing the Promotion Document.\\\n",
    "        Verify and ensure the validity of the evidentiary materials provided by the candidates.\\\n",
    "        Inform the candidates of the final evaluation/approval results.\",\n",
    "        \"1.6.3. Promotion Committee’s Responsibilities\\\n",
    "        The Promotion Committee will assess if the candidate recommended for promotion is qualified and ready to take on the responsibilities \\\n",
    "        of the higher position and will advise the Director/Unit Head accordingly.\\\n",
    "        Members shall observe and validate the abilities and capabilities \\\n",
    "        of the potential candidate based on the evidentiary materials provided and the criteria/attributes listed in Evaluation Criteria, and finalize \\\n",
    "        the evaluation result by filling and completing the Promotion Assessment Form.\\\n",
    "        Members are responsible for ensuring that all decisions are taken in the best interests of the organization and that their role is carried out effectively.\\\n",
    "        Recommend advancement/promotion, or prepare notes/emails detailing reasons for denial and advising ways of improvement should a rejection decision be rendered.\\\n",
    "        Inform the Human Resource Department of the evaluation results.\",\n",
    "        \"1.6.2. Candidate’s Responsibilities\\\n",
    "        Collect evidentiary materials demonstrating he/she has the adequate level of seniority, qualifications, skills, impact, \\\n",
    "        and performance to take on the added responsibilities, and use said materials to prepare for the Promotion Document.\\\n",
    "        Submit the Promotion Document on the mutually agreeable schedule.\",\n",
    "        \"1.6.4. Human Resource Department’s Responsibilities\\\n",
    "        Human Resource Department shall recommend the Promotion Committee to Top Management for approval.\\\n",
    "        Inform the evaluation/approval results to Director/Unit Head or Supervisors.\\\n",
    "        Prepare the new contract appendices and inform the newly promoted employees about the changes in salary and benefits (if any).\",\n",
    "        \"2.8.3. Procedure\\nThe employee has to submit a written letter of resignation to the General Director, the HR-Admin Manager, and the direct leader and supervisor.\\\n",
    "        If the employee fails to give the required notice, the Company at its discretion has the right to withhold or deduct the employee’s salary in lieu of notice.\\\n",
    "        3. COMPENSATION AND BENEFITS\\\n",
    "        ============================\\\n",
    "        3.1. Compensation\",\n",
    "        \"'1.6.5. Director/Unit Head’s Responsibilities\\\n",
    "        Evaluate and approve of the candidates list provided by Supervisors.\\\n",
    "        Select candidates for Management Branch promotion.\\\n",
    "        Send candidates list and promotion request to Promotion Committee or Top Management.\\\n",
    "        Assess the listed candidates (at Assistant Engineer and Engineer levels) and make the final approval decision.\\\n",
    "        Evaluation Criteria\"\n",
    "    ],\n",
    "    \"indices\": [\n",
    "        40,\n",
    "        42,\n",
    "        41,\n",
    "        43,\n",
    "        3,\n",
    "        44\n",
    "    ]\n",
    "}\n"
   ]
  },
  {
   "cell_type": "code",
   "execution_count": 27,
   "metadata": {},
   "outputs": [
    {
     "name": "stdout",
     "output_type": "stream",
     "text": [
      "URL:  https://nexcel.info/nexcel-career-development-handbook/\n",
      "CHUNK:  1.4.1. Professional Branch\n",
      "1.4.1.1. Assistant Engineer/Engineer Promotions\n",
      "Assistant Engineer/Engineer Promotion refers to:\n",
      "* Promotion within grades (A, B, C) of Assistant Engineer\n",
      "* Promotion from Assistant Engineer Grade A to Engineer Grade F.\n",
      "* Promotion within grades (A, B, C, D, E, F) of Engineer.\n",
      "Figure 1.4.1 A\n",
      "Here is a step-by-step procedure:\n",
      "1. Evaluation & Promotion Request\n",
      "Supervisors will identify opportunities to promote one or more employees who are ready for the next step in their careers. After selecting, Supervisors will inform and send the candidates list to Director/Unit Head.\n",
      "2. Director/Unit Head’s Evaluation & Approval\n",
      "Director/Unit Head will assess the candidates using Evaluation Criteria and make the final approval decision. Depending on the result of the decision, there will be two case scenarios:\n",
      "• If approved – Human Resource Department will be informed of the results and notify Supervisors. Afterward, Human Resource Department will process paperwork to formalize the promotion.\n",
      "• If disapproved – Human Resource Department will be informed of the results and reasons for denial, and notify Supervisors.\n",
      "3. Paperwork\n",
      "Human Resource Department will prepare the new contract appendices and inform the newly promoted employees about the changes in salary and benefits (if any).\n",
      "=====================================================\n",
      "\n",
      "\n",
      "URL:  https://nexcel.info/nexcel-career-development-handbook/\n",
      "CHUNK:  1.4.1.2. Senior Engineer, Staff Engineer, Senior Staff Engineer, Architect/Lead Promotions\n",
      "These promotions refer to:\n",
      "* Promotion fromEngineer Grade A to Senior Engineer Grade D.\n",
      "* Promotion within grades (A, B, C, D) of Senior Engineer.\n",
      "* Promotion from Senior Engineer Grade A to Staff Engineer.\n",
      "* Higher promotions (Senior Staff Engineer and Architect/Lead)\n",
      "Figure 1.4.1-B\n",
      "*Promotion Committee is recommended by Human Resource Department and/or consulted with Top Management if necessary.\n",
      "Here is a step-by-step procedure of the Promotion Process:\n",
      "1. Promotion Request\n",
      "Supervisors will identify opportunities to promote one or more employees who are ready for the next step in their careers. After selecting, Supervisors will provide the candidates list to Director/Unit Head.\n",
      "2. Director/Unit Head’s Evaluation & Approval\n",
      "Director/Unit Head will evaluate and approve of the candidates list provided. Depending on the result of the decision, there will be two case scenarios:\n",
      "• If approved – Director/Unit Head will send the list to Promotion Committee.\n",
      "• If disapproved – Supervisors will make changes to the candidates list accordingly.\n",
      "3. Promotion Committee’s Evaluation & Approval\n",
      "Each member of the Promotion Committee will assess the candidates using Evaluation Criteria and make the final approval decision. Depending on the result of the decision, there will be two case scenarios:\n",
      "• If approved – Human Resource Department will be informed of the results and notify Supervisors. Afterward, Human Resource Department will process paperwork to formalize the promotion.\n",
      "• If disapproved – Human Resource Department will be informed of the results and reasons for denial, and notify Supervisors.\n",
      "4. Paperwork\n",
      "Human Resource Department will prepare the new contract appendices and inform the newly promoted employees about the changes in salary and benefits (if any).\n",
      "=====================================================\n",
      "\n",
      "\n"
     ]
    }
   ],
   "source": [
    "index = [10, 11]\n",
    "\n",
    "for i in index:\n",
    "    print(\"URL: \", chunks[i]['url'])\n",
    "    print(\"CHUNK: \", chunks[i]['content'])\n",
    "    print(\"=====================================================\")\n",
    "    print(\"\\n\")"
   ]
  },
  {
   "cell_type": "markdown",
   "metadata": {},
   "source": [
    "# ***<span style=\"color:green\">Web Crawler</span>***"
   ]
  },
  {
   "cell_type": "code",
   "execution_count": null,
   "metadata": {},
   "outputs": [
    {
     "name": "stdout",
     "output_type": "stream",
     "text": [
      "Content saved to 'employee_handbook.txt' and 'employee_handbook.md'\n"
     ]
    }
   ],
   "source": [
    "from googlesearch import search\n",
    "import requests\n",
    "from bs4 import BeautifulSoup\n",
    "from markdownify import markdownify as md\n",
    "\n",
    "# Tìm kiếm URL\n",
    "# query = \"Công ty Nexcel Solutions thành lập vào năm nào\"\n",
    "# search_results = list(search(query, num_results=6, advanced=True))\n",
    "# if search_results:\n",
    "#     url = search_results[0].url\n",
    "#     print(f\"Found URL: {url}\")\n",
    "# else:\n",
    "#     print(\"No URL found.\")\n",
    "#     exit()\n",
    "url = \"https://nexcel.info/nexcel-career-development-handbook/\"\n",
    "# Lấy nội dung từ URL\n",
    "response = requests.get(url)\n",
    "if response.status_code == 200:\n",
    "    html_content = response.text\n",
    "    soup = BeautifulSoup(html_content, \"html.parser\")\n",
    "    \n",
    "    # Lấy nội dung chính (giả sử trong thẻ <body>)\n",
    "    content = soup.get_text(separator=\"\\n\")\n",
    "    \n",
    "    # Lưu vào file .txt\n",
    "    with open(\"./employee_handbook.txt\", \"w\", encoding=\"utf-8\") as txt_file:\n",
    "        txt_file.write(content)\n",
    "    \n",
    "    # Chuyển đổi sang Markdown\n",
    "    markdown_content = md(html_content)\n",
    "    with open(\"./employee_handbook.md\", \"w\", encoding=\"utf-8\") as md_file:\n",
    "        md_file.write(markdown_content)\n",
    "    \n",
    "    print(\"Content saved to 'employee_handbook.txt' and 'employee_handbook.md'\")\n",
    "else:\n",
    "    print(f\"Failed to fetch the URL: {response.status_code}\")\n"
   ]
  },
  {
   "cell_type": "code",
   "execution_count": 12,
   "metadata": {},
   "outputs": [
    {
     "name": "stdout",
     "output_type": "stream",
     "text": [
      "[SearchResult(url=https://www.itjobs.com.vn/vi/employer/profile/nexcel-solutions-246, title=Nexcel Solutions - ITJobs.com.vn, description=Công TY TNHH Một Thành Viên Giải Pháp NEXCEL - Nexcel Solutions, một nhà ... ITJobs được thành lập vào năm 2014 tại Việt Nam và mục tiệu chính là trở ...), SearchResult(url=https://vn.linkedin.com/company/nexcel-solutions, title=Nexcel Solutions, description=Quy mô công ty: 201-500 nhân viên. Trụ sở: Ho Chi Minh, Ho Chi Minh. Loại hình: Privately Held. Thành lập: 2011. Vị trí. Chính. SMS Tower, Quang Trung Software ...), SearchResult(url=https://hosocongty.vn/cong-ty-tnhh-mot-thanh-vien-giai-phap-nexcel-com-83090.htm, title=công ty tnhh một thành viên giải pháp nexcel, description=Jan 31, 2023 — CÔNG TY TNHH MỘT THÀNH VIÊN GIẢI PHÁP NEXCEL · Đại diện pháp luật: AKAPAT RUKSAPHUN · Điện thoại: · Ngày cấp: 21/01/2010 · Ngành nghề chính: Tư vấn ...), SearchResult(url=https://www.topcv.vn/cong-ty/nexcel-solutions/116877.html, title=Nexcel Solutions, description=Tra cứu thông thông tin công ty Nexcel Solutions, danh sách tin tuyển dụng mới nhất từ Nexcel Solutions.), SearchResult(url=https://vn.linkedin.com/company/nexcel-solutions-llc?trk=public_profile_topcard-current-company, title=Nexcel Solutions, description=Liên kết ngoài cho Nexcel Solutions. Ngành: IT Services and IT Consulting. Quy mô công ty: 51-200 nhân viên. Trụ sở: Newark, DE. Loại hình: Privately Held.), SearchResult(url=https://congtytui.net/companies/nexcel-solutions?page=2, title=Review công ty Nexcel Solutions - 20 reviews, description=Đừng đọc từ các bài báo trên mạng nói rằng cứ cố gắng làm sẽ được sếp đề bạt, tăng lương thưởng. Xin lỗi nếu vài năm sau niềm tin đó làm bạn thất vọng. p/s: Một ...)]\n"
     ]
    }
   ],
   "source": [
    "print(search_results)"
   ]
  },
  {
   "cell_type": "code",
   "execution_count": 77,
   "metadata": {},
   "outputs": [],
   "source": [
    "import re\n",
    "\n",
    "markdown_content = re.sub(\"\\n\\n+\", \"\\n\", markdown_content)"
   ]
  },
  {
   "cell_type": "code",
   "execution_count": 85,
   "metadata": {},
   "outputs": [],
   "source": [
    "from langchain_text_splitters import MarkdownHeaderTextSplitter\n",
    "\n",
    "headers_to_split_on = [\n",
    "    (\"#\", \"Header 1\"),\n",
    "    (\"##\", \"Header 2\"),\n",
    "    (\"###\", \"Header 3\"),\n",
    "    (\"####\", \"Header 4\"),\n",
    "    (\"#####\", \"Header 5\"),\n",
    "]\n",
    "\n",
    "markdown_splitter = MarkdownHeaderTextSplitter(headers_to_split_on=headers_to_split_on, strip_headers=False)\n",
    "md_header_splits = markdown_splitter.split_text(markdown_content)"
   ]
  },
  {
   "cell_type": "code",
   "execution_count": null,
   "metadata": {},
   "outputs": [],
   "source": [
    "print(md_header_splits[4].page_content)"
   ]
  },
  {
   "cell_type": "code",
   "execution_count": null,
   "metadata": {},
   "outputs": [],
   "source": [
    "from bs4 import BeautifulSoup\n",
    "from markdown import markdown\n",
    "\n",
    "html = markdown(md_header_splits[4].page_content)\n",
    "text = ''.join(BeautifulSoup(html).findAll(text=True))"
   ]
  },
  {
   "cell_type": "code",
   "execution_count": null,
   "metadata": {},
   "outputs": [],
   "source": [
    "print(text)"
   ]
  },
  {
   "cell_type": "code",
   "execution_count": 97,
   "metadata": {},
   "outputs": [],
   "source": [
    "response = requests.get('http://nexcel.info/wp-content/uploads/2021/05/promotion-committee-assessment-form.jpg')"
   ]
  },
  {
   "cell_type": "code",
   "execution_count": 98,
   "metadata": {},
   "outputs": [
    {
     "data": {
      "text/plain": [
       "<Response [200]>"
      ]
     },
     "execution_count": 98,
     "metadata": {},
     "output_type": "execute_result"
    }
   ],
   "source": [
    "response"
   ]
  },
  {
   "cell_type": "code",
   "execution_count": 89,
   "metadata": {},
   "outputs": [],
   "source": [
    "from langchain_text_splitters import RecursiveCharacterTextSplitter\n",
    "\n",
    "chunk_size = 250\n",
    "chunk_overlap = 30\n",
    "text_splitter = RecursiveCharacterTextSplitter(\n",
    "    chunk_size=chunk_size, chunk_overlap=chunk_overlap\n",
    ")\n",
    "\n",
    "# Split\n",
    "splits = text_splitter.split_documents(md_header_splits)"
   ]
  },
  {
   "cell_type": "code",
   "execution_count": 96,
   "metadata": {},
   "outputs": [
    {
     "name": "stdout",
     "output_type": "stream",
     "text": [
      "| 3 | A | Assistant Manager | Senior Project Manager | 5+ years |\n",
      "|  | B |  |  |  |\n",
      "|  | C |  |  |  |\n",
      "| 4 | A | Supervisor/Tech Supervisor | Project Manager/Assistant Project Manager | Project Manager: 3+ years Assistant Project Manager: <3 years |\n"
     ]
    }
   ],
   "source": [
    "print(splits[100].page_content)"
   ]
  },
  {
   "cell_type": "code",
   "execution_count": 68,
   "metadata": {},
   "outputs": [],
   "source": [
    "from duckduckgo_search import DDGS\n",
    "import re\n",
    "from langchain_community.document_loaders import AsyncChromiumLoader\n",
    "from langchain_community.document_transformers import BeautifulSoupTransformer\n",
    "\n",
    "def gg_search(query):\n",
    "    # results = DDGS().text(query, max_results=5)\n",
    "    # print(results)\n",
    "    # urls = []\n",
    "    # for result in results:\n",
    "    #     url = result['href']\n",
    "    #     urls.append(url)\n",
    "    search_results = list(search(query, num_results=6, advanced=True))\n",
    "    contents = []\n",
    "    for result in search_results:\n",
    "        response = requests.get(result.url)\n",
    "        html_content = response.text\n",
    "        soup = BeautifulSoup(html_content, \"html.parser\")\n",
    "        content = soup.get_text(separator=\"\\n\")\n",
    "        page_text = re.sub(\"\\n\\n+\", \"\\n\", content)\n",
    "        # text = truncate(page_text)\n",
    "        contents.append(page_text)\n",
    "\n",
    "    return contents\n",
    "\n",
    "def ddg_search(query):\n",
    "    results = DDGS().text(query, max_results=5)\n",
    "    print(results)\n",
    "    urls = []\n",
    "    for result in results:\n",
    "        url = result['href']\n",
    "        urls.append(url)\n",
    "\n",
    "    docs = get_page(urls)\n",
    "\n",
    "    content = []\n",
    "    for doc in docs:\n",
    "        page_text = re.sub(\"\\n\\n+\", \"\\n\", doc.page_content)\n",
    "        # text = truncate(page_text)\n",
    "        content.append(page_text)\n",
    "\n",
    "    return content\n",
    "\n",
    "def get_page(urls):\n",
    "    loader = AsyncChromiumLoader(urls)\n",
    "    html = loader.load()\n",
    "\n",
    "    bs_transformer = BeautifulSoupTransformer()\n",
    "    docs_transformed = bs_transformer.transform_documents(html, tags_to_extract=[\"p\"], remove_unwanted_tags=[\"a\"])\n",
    "\n",
    "    return docs_transformed\n",
    "\n",
    "def truncate(text):\n",
    "    words = text.split()\n",
    "    truncated = \" \".join(words[:400])\n",
    "\n",
    "    return truncated "
   ]
  },
  {
   "cell_type": "code",
   "execution_count": 69,
   "metadata": {},
   "outputs": [],
   "source": [
    "content = gg_search(\"Công ty Nexcel Solutions thành lập vào năm nào ?\")"
   ]
  },
  {
   "cell_type": "code",
   "execution_count": 43,
   "metadata": {},
   "outputs": [],
   "source": [
    "path = 'https://nexcel.info/employee-handbook-2/'\n",
    "response = requests.get(path)\n",
    "html_content = response.text\n",
    "soup = BeautifulSoup(html_content, 'html.parser')\n",
    "all_text = soup.get_text(separator=\"\\n\")\n"
   ]
  },
  {
   "cell_type": "code",
   "execution_count": 46,
   "metadata": {},
   "outputs": [],
   "source": [
    "page_text = re.sub(\"\\n\\n+\", \"\\n\", all_text)"
   ]
  },
  {
   "cell_type": "code",
   "execution_count": null,
   "metadata": {},
   "outputs": [],
   "source": [
    "t = re.sub(\"\\n\\n+\", \"\\n\", markdown)\n",
    "print(t)"
   ]
  },
  {
   "cell_type": "code",
   "execution_count": 50,
   "metadata": {},
   "outputs": [
    {
     "name": "stderr",
     "output_type": "stream",
     "text": [
      "c:\\Users\\leon.pham\\AppData\\Local\\anaconda3\\envs\\langchain\\Lib\\site-packages\\bs4\\element.py:955: RuntimeWarning: coroutine 'AsyncChromiumLoader.ascrape_playwright' was never awaited\n",
      "  u.setup()\n",
      "RuntimeWarning: Enable tracemalloc to get the object allocation traceback\n"
     ]
    }
   ],
   "source": [
    "markdown = md(html_content)"
   ]
  },
  {
   "cell_type": "code",
   "execution_count": 53,
   "metadata": {},
   "outputs": [
    {
     "name": "stdout",
     "output_type": "stream",
     "text": [
      "<class 'str'>\n"
     ]
    }
   ],
   "source": [
    "print(type(markdown))"
   ]
  },
  {
   "cell_type": "code",
   "execution_count": null,
   "metadata": {},
   "outputs": [],
   "source": [
    "print(page_text)"
   ]
  },
  {
   "cell_type": "code",
   "execution_count": null,
   "metadata": {},
   "outputs": [],
   "source": [
    "print(content[0])"
   ]
  },
  {
   "cell_type": "code",
   "execution_count": 73,
   "metadata": {},
   "outputs": [],
   "source": [
    "links = [a['href'] for a in soup.find_all('a', href=True)]"
   ]
  },
  {
   "cell_type": "markdown",
   "metadata": {},
   "source": [
    "# ***<span style=\"color:green\">Sentence Similarity</span>***"
   ]
  },
  {
   "cell_type": "code",
   "execution_count": null,
   "metadata": {},
   "outputs": [],
   "source": [
    "from sentence_transformers import SentenceTransformer\n",
    "\n",
    "model = SentenceTransformer(\"nomic-ai/modernbert-embed-base\")\n",
    "\n",
    "query_embeddings = model.encode([\n",
    "    \"search_query: What is TSNE?\",\n",
    "    \"search_query: Who is Laurens van der Maaten?\",\n",
    "])\n",
    "doc_embeddings = model.encode([\n",
    "    \"  1.6. Individual/Committee Responsibilities\n",
    "1.6.1. Supervisor’s Responsibilities\n",
    "Prepare a list of potential candidates for promotion, and send it to Director/Unit Head no later than December 1st of the year when the promotion takes place.\n",
    "Meet with the candidates to inform them about the promotion opportunities and discuss their future career goals/aspirations.\n",
    "Ask the candidates to collect evidentiary materials and to use said materials to prepare for the Promotion Document.\n",
    "Set a mutually agreeable schedule for completing the Promotion Document.\n",
    "Verify and ensure the validity of the evidentiary materials provided by the candidates.\n",
    "Inform the candidates of the final evaluation/approval results..1.6.3. Promotion Committee’s Responsibilities\n",
    "The Promotion Committee will assess if the candidate recommended for promotion is qualified and ready to take on the responsibilities of the higher position and will advise the Director/Unit Head accordingly.\n",
    "Members shall observe and validate the abilities and capabilities of the potential candidate based on the evidentiary materials provided and the criteria/attributes listed in Evaluation Criteria, and finalize the evaluation result by filling and completing the Promotion Assessment Form.\n",
    "Members are responsible for ensuring that all decisions are taken in the best interests of the organization and that their role is carried out effectively.\n",
    "Recommend advancement/promotion, or prepare notes/emails detailing reasons for denial and advising ways of improvement should a rejection decision be rendered.\n",
    "Inform the Human Resource Department of the evaluation results.\",\n",
    "])\n",
    "print(query_embeddings.shape, doc_embeddings.shape)\n",
    "# (2, 768) (1, 768)\n",
    "\n",
    "similarities = model.similarity(query_embeddings, doc_embeddings)\n",
    "print(similarities)\n",
    "# tensor([[0.7214],\n",
    "#         [0.3260]])\n"
   ]
  },
  {
   "cell_type": "markdown",
   "metadata": {},
   "source": [
    "# ***<span style=\"color:green\">RAG</span>***"
   ]
  },
  {
   "cell_type": "code",
   "execution_count": null,
   "metadata": {},
   "outputs": [],
   "source": [
    "# To install all available features\n",
    "!pip3 install \"crawl4ai[all]\"\n",
    "\n",
    "# After installation, download the necessary models for better performance:\n",
    "!crawl4ai-download-models\n",
    "\n",
    "# Lastly, install Playwright dependencies\n",
    "!playwright install "
   ]
  },
  {
   "cell_type": "code",
   "execution_count": 2,
   "metadata": {},
   "outputs": [],
   "source": [
    "with open('D:\\Desktop\\chatbot4group\\data\\Employee Handbook – Nexcel Info Site.html', 'r') as file:\n",
    "    html_as_string = file.read()"
   ]
  },
  {
   "cell_type": "code",
   "execution_count": null,
   "metadata": {},
   "outputs": [],
   "source": [
    "print(html_as_string)"
   ]
  },
  {
   "cell_type": "code",
   "execution_count": 1,
   "metadata": {},
   "outputs": [],
   "source": [
    "import requests\n",
    "\n",
    "url = 'https://nexcel.info/employee-handbook-2/'  # Replace with your desired URL\n",
    "response = requests.get(url)\n",
    "\n",
    "if response.status_code == 200:\n",
    "    html_content = response.text\n",
    "else:\n",
    "    print('Failed to retrieve the document')"
   ]
  },
  {
   "cell_type": "code",
   "execution_count": null,
   "metadata": {},
   "outputs": [],
   "source": [
    "from bs4 import BeautifulSoup\n",
    "\n",
    "# Parse the HTML content\n",
    "soup = BeautifulSoup(html_content, 'html.parser')\n",
    "\n",
    "# Pretty-printing the parsed HTML\n",
    "print(soup.prettify())"
   ]
  },
  {
   "cell_type": "code",
   "execution_count": 4,
   "metadata": {},
   "outputs": [
    {
     "name": "stdout",
     "output_type": "stream",
     "text": [
      "Page Title: Employee Handbook – Nexcel Info Site\n"
     ]
    }
   ],
   "source": [
    "title = soup.title.string\n",
    "print(f'Page Title: {title}')"
   ]
  },
  {
   "cell_type": "code",
   "execution_count": null,
   "metadata": {},
   "outputs": [],
   "source": [
    "all_text = soup.get_text()\n",
    "print(all_text)"
   ]
  },
  {
   "cell_type": "code",
   "execution_count": null,
   "metadata": {},
   "outputs": [],
   "source": [
    "links = [a['href'] for a in soup.find_all('a', href=True)]\n",
    "print('Links Found:', links)"
   ]
  },
  {
   "cell_type": "code",
   "execution_count": null,
   "metadata": {},
   "outputs": [],
   "source": [
    "data = {\n",
    "    'title': title,\n",
    "    'text': all_text,\n",
    "    'links': links\n",
    "}\n",
    "\n",
    "print('Structured Data:', data)"
   ]
  },
  {
   "cell_type": "code",
   "execution_count": null,
   "metadata": {},
   "outputs": [],
   "source": [
    "from langchain.schema import Document\n",
    "\n",
    "document = Document(\n",
    "    page_content=data['text'],\n",
    "    metadata={\n",
    "        'title': data['title'],\n",
    "        'links': data['links'],\n",
    "    }\n",
    ")\n",
    "\n",
    "print('LangChain Document Created:', document)"
   ]
  },
  {
   "cell_type": "code",
   "execution_count": 31,
   "metadata": {},
   "outputs": [
    {
     "name": "stdout",
     "output_type": "stream",
     "text": [
      "Number of Chunks Created: 164\n"
     ]
    }
   ],
   "source": [
    "from langchain.text_splitter import RecursiveCharacterTextSplitter\n",
    "\n",
    "# Splitting the document into manageable chunks\n",
    "text_splitter = RecursiveCharacterTextSplitter()\n",
    "text_splitter._chunk_size = 500\n",
    "text_splitter._chunk_overlap = 20\n",
    "documents = text_splitter.split_documents([document])\n",
    "\n",
    "print(f'Number of Chunks Created: {len(documents)}')"
   ]
  },
  {
   "cell_type": "code",
   "execution_count": 26,
   "metadata": {},
   "outputs": [],
   "source": [
    "import re\n",
    "\n",
    "\n",
    "def format_text(text):\n",
    "    # Step 1: Remove excess whitespace and ensure consistent formatting\n",
    "    text = re.sub(r'\\n+', '\\n', text.strip())\n",
    "    \n",
    "    # Step 2: Break the text into major sections based on patterns like '------'\n",
    "    sections = re.split(r'\\n[-=]+\\n', text)\n",
    "    \n",
    "    formatted_text = ''\n",
    "    \n",
    "    for section in sections:\n",
    "        # Step 3: For each section, process the title and content\n",
    "        lines = section.strip().split('\\n')\n",
    "        title = lines[0]\n",
    "        content = '\\n'.join(lines[1:])\n",
    "        \n",
    "        # Step 4: Add title to formatted text\n",
    "        formatted_text += title + '\\n' + '-' * len(title) + '\\n'\n",
    "        \n",
    "        # Step 5: Handle indentation for nested bullet points\n",
    "        formatted_text += format_content(content) + '\\n\\n'\n",
    "    \n",
    "    return formatted_text.strip()\n",
    "\n",
    "\n",
    "\n",
    "def format_content(content):\n",
    "    lines = content.split('\\n')\n",
    "    formatted_lines = []\n",
    "    indent_level = 0\n",
    "\n",
    "    for line in lines:\n",
    "        if line.startswith('-'):\n",
    "            # Bullet points, so we add indentation\n",
    "            formatted_lines.append('  ' * indent_level + line)\n",
    "        else:\n",
    "            # Non-bullet point, reset indentation\n",
    "            if line.strip() == '':\n",
    "                formatted_lines.append('')\n",
    "            else:\n",
    "                formatted_lines.append('  ' * indent_level + line)\n",
    "        \n",
    "        # Increase indent if the line is a section heading\n",
    "        if re.search(r'[A-Za-z\\s]+$', line):\n",
    "            indent_level += 1\n",
    "    \n",
    "    return '\\n'.join(formatted_lines)\n",
    "\n",
    "\n",
    "\n",
    "def format_content_for_markdown(content):\n",
    "    lines = content.split('\\n')\n",
    "    formatted_lines = []\n",
    "    indent_level = 0\n",
    "\n",
    "    for line in lines:\n",
    "        if line.startswith('-'):\n",
    "            # Bullet points, add indentation\n",
    "            formatted_lines.append('  ' * indent_level + line)\n",
    "        else:\n",
    "            # Non-bullet point, reset indentation\n",
    "            if line.strip() == '':\n",
    "                formatted_lines.append('')\n",
    "            else:\n",
    "                formatted_lines.append('  ' * indent_level + line)\n",
    "        \n",
    "        # Increase indent if the line is a sub-section heading\n",
    "        if re.search(r'[A-Za-z\\s]+$', line):\n",
    "            indent_level += 1\n",
    "    \n",
    "    return '\\n'.join(formatted_lines)\n",
    "\n",
    "\n",
    "\n",
    "def format_to_markdown(text):\n",
    "    # Step 1: Remove excess whitespace and ensure consistent formatting\n",
    "    text = re.sub(r'\\n+', '\\n', text.strip())\n",
    "    \n",
    "    # Step 2: Break the text into major sections based on patterns like '------'\n",
    "    sections = re.split(r'\\n[-=]+\\n', text)\n",
    "    \n",
    "    markdown_text = ''\n",
    "    \n",
    "    for section in sections:\n",
    "        # Step 3: For each section, process the title and content\n",
    "        lines = section.strip().split('\\n')\n",
    "        title = lines[0]\n",
    "        content = '\\n'.join(lines[1:])\n",
    "        \n",
    "        # Step 4: Add title to markdown text as H1\n",
    "        markdown_text += f'# {title}\\n\\n'\n",
    "        \n",
    "        # Step 5: Handle indentation for nested bullet points\n",
    "        markdown_text += format_content_for_markdown(content) + '\\n\\n'\n",
    "    \n",
    "    return markdown_text.strip()"
   ]
  },
  {
   "cell_type": "code",
   "execution_count": 27,
   "metadata": {},
   "outputs": [],
   "source": [
    "t = format_content(documents[0].page_content)"
   ]
  },
  {
   "cell_type": "code",
   "execution_count": 1,
   "metadata": {},
   "outputs": [
    {
     "name": "stdout",
     "output_type": "stream",
     "text": [
      "Write a delicious recipe for pasta with a spicy twist.\n"
     ]
    }
   ],
   "source": [
    "from langchain.prompts import PromptTemplate\n",
    "\n",
    "prompt_template = PromptTemplate.from_template(\n",
    "  \"Write a delicious recipe for {dish} with a {flavor} twist.\"\n",
    ")\n",
    "\n",
    "# Formatting the prompt with new content\n",
    "formatted_prompt = prompt_template.format(dish=\"pasta\", flavor=\"spicy\")\n",
    "\n",
    "print(formatted_prompt)"
   ]
  },
  {
   "cell_type": "code",
   "execution_count": null,
   "metadata": {},
   "outputs": [],
   "source": [
    "import time\n",
    "\n",
    "def nextSquare():\n",
    "    i = 1\n",
    " \n",
    "    # An Infinite loop to generate squares\n",
    "    while True:\n",
    "        yield i*i\n",
    "        i += 1  # Next execution resumes\n",
    "        time.sleep(4)\n",
    "        # from this point\n",
    " \n",
    " \n",
    "# Driver code to test above generator\n",
    "# function\n",
    "for num in nextSquare():\n",
    "    if num > 100:\n",
    "        break\n",
    "    print(num)"
   ]
  },
  {
   "cell_type": "code",
   "execution_count": 2,
   "metadata": {},
   "outputs": [
    {
     "name": "stdout",
     "output_type": "stream",
     "text": [
      "Question: What is the tallest mountain in the world?\n",
      "Mount Everest\n",
      "\n",
      "Question: What is the largest ocean on Earth?\n",
      "Pacific Ocean\n",
      "\n",
      "Question: In which year did the first airplane fly?\n",
      "1903\n",
      "\n",
      "Question: What is the name of the famous clock tower in London?\n"
     ]
    }
   ],
   "source": [
    "from langchain.prompts.few_shot import FewShotPromptTemplate\n",
    "from langchain.prompts.prompt import PromptTemplate\n",
    "\n",
    "examples = [\n",
    "    {\n",
    "        \"question\": \"What is the tallest mountain in the world?\",\n",
    "        \"answer\": \"Mount Everest\",\n",
    "    },\n",
    "    {\"question\": \"What is the largest ocean on Earth?\", \"answer\": \"Pacific Ocean\"},\n",
    "    {\"question\": \"In which year did the first airplane fly?\", \"answer\": \"1903\"},\n",
    "]\n",
    "\n",
    "example_prompt = PromptTemplate(\n",
    "    input_variables=[\"question\", \"answer\"],\n",
    "    template=\"Question: {question}\\n{answer}\",\n",
    ")\n",
    "prompt_template = FewShotPromptTemplate(\n",
    "    examples=examples,\n",
    "    example_prompt=example_prompt,\n",
    "    suffix=\"Question: {input}\",\n",
    "    input_variables=[\"input\"],\n",
    ")\n",
    "\n",
    "print(\n",
    "    prompt_template.format(\n",
    "        input=\"What is the name of the famous clock tower in London?\"\n",
    "    )\n",
    ")"
   ]
  },
  {
   "cell_type": "code",
   "execution_count": null,
   "metadata": {},
   "outputs": [],
   "source": []
  }
 ],
 "metadata": {
  "kernelspec": {
   "display_name": "langchain",
   "language": "python",
   "name": "python3"
  },
  "language_info": {
   "codemirror_mode": {
    "name": "ipython",
    "version": 3
   },
   "file_extension": ".py",
   "mimetype": "text/x-python",
   "name": "python",
   "nbconvert_exporter": "python",
   "pygments_lexer": "ipython3",
   "version": "3.11.11"
  }
 },
 "nbformat": 4,
 "nbformat_minor": 2
}
